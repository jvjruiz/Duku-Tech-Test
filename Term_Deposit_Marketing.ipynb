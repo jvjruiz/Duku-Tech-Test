{
  "nbformat": 4,
  "nbformat_minor": 0,
  "metadata": {
    "colab": {
      "name": "Term Deposit Marketing.ipynb",
      "provenance": [],
      "collapsed_sections": [],
      "authorship_tag": "ABX9TyOwCXVCutgFxLa7FF/hRTTw",
      "include_colab_link": true
    },
    "kernelspec": {
      "name": "python3",
      "display_name": "Python 3"
    }
  },
  "cells": [
    {
      "cell_type": "markdown",
      "metadata": {
        "id": "view-in-github",
        "colab_type": "text"
      },
      "source": [
        "<a href=\"https://colab.research.google.com/github/jvjruiz/Duku-Tech-Test/blob/master/Term_Deposit_Marketing.ipynb\" target=\"_parent\"><img src=\"https://colab.research.google.com/assets/colab-badge.svg\" alt=\"Open In Colab\"/></a>"
      ]
    },
    {
      "cell_type": "markdown",
      "metadata": {
        "id": "H0ZU21sL76TO",
        "colab_type": "text"
      },
      "source": [
        "# Background and Exploratory Data Analysis:\n",
        "\n",
        "Background:\n",
        "\n",
        "ACME is a small startup focusing mainly on providing machine learning solutions in the European banking market. We work on a variety of problems including fraud detection, sentiment classification and customer intention prediction and classification.\n",
        "\n",
        "We are interested in developing a robust machine learning system that leverages information coming from call center data.\n",
        "\n",
        "Ultimately, at ACME we are looking to improve the success rate for calls made to customers for any product that our clients offer. Towards this goal we are working on designing an ever evolving machine learning product that offers high success outcomes while offering interpretability for our clients to make informed decisions.\n",
        "\n",
        "Data Description:\n",
        "\n",
        "The data comes from direct marketing efforts of a European banking institution. The marketing campaign involves making a phone call to a customer, often multiple times to ensure a product subscription, in this case a term deposit. Term deposits are usually short-term deposits with maturities ranging from one month to a few years. The customer must understand when buying a term deposit that they can withdraw their funds only after the term ends. All customer information that might reveal personal information is removed due to privacy concerns."
      ]
    },
    {
      "cell_type": "code",
      "metadata": {
        "id": "-HPJrhSyn7zd",
        "colab_type": "code",
        "colab": {}
      },
      "source": [
        "# import necessary packages\n",
        "import itertools\n",
        "import pandas as pd\n",
        "import numpy as np\n",
        "from google.colab import drive\n",
        "from sklearn.ensemble import RandomForestClassifier\n",
        "from sklearn.linear_model import LogisticRegression\n",
        "from sklearn.model_selection import train_test_split, cross_val_score\n",
        "from sklearn.naive_bayes import GaussianNB\n",
        "from sklearn.neighbors import KNeighborsClassifier\n",
        "from sklearn.metrics import f1_score, confusion_matrix, plot_confusion_matrix\n",
        "from sklearn import svm\n",
        "from matplotlib import pyplot as plt"
      ],
      "execution_count": null,
      "outputs": []
    },
    {
      "cell_type": "markdown",
      "metadata": {
        "id": "xOmS8jss9DGS",
        "colab_type": "text"
      },
      "source": [
        "Attributes:\n",
        "\n",
        "age : age of customer (numeric)\n",
        "\n",
        "job : type of job (categorical)\n",
        "\n",
        "marital : marital status (categorical)\n",
        "\n",
        "education (categorical)\n",
        "\n",
        "default: has credit in default? (binary)\n",
        "\n",
        "balance: average yearly balance, in euros (numeric)\n",
        "\n",
        "housing: has a housing loan? (binary)\n",
        "\n",
        "loan: has personal loan? (binary)\n",
        "\n",
        "contact: contact communication type (categorical)\n",
        "\n",
        "day: last contact day of the month (numeric)\n",
        "\n",
        "month: last contact month of year (categorical)\n",
        "\n",
        "duration: last contact duration, in seconds (numeric)\n",
        "\n",
        "campaign: number of contacts performed during this campaign and for this client (numeric, includes last contact)\n",
        "\n",
        "Output (desired target):\n",
        "\n",
        "y - has the client subscribed to a term deposit? (binary)\n"
      ]
    },
    {
      "cell_type": "code",
      "metadata": {
        "id": "kKlXcvqVuIrm",
        "colab_type": "code",
        "colab": {
          "base_uri": "https://localhost:8080/",
          "height": 442
        },
        "outputId": "58a76dec-f4c7-4ea9-da2e-d42bb5e0a03e"
      },
      "source": [
        "# initialize random_state for everything\n",
        "random_state = 42\n",
        "\n",
        "# load the data from google drive\n",
        "drive.mount('/content/drive')\n",
        "path = '/content/drive/My Drive/ml_stuff/potential-talents.csv'\n",
        "df = pd.read_csv(path)\n",
        "df.head()"
      ],
      "execution_count": null,
      "outputs": [
        {
          "output_type": "stream",
          "text": [
            "Drive already mounted at /content/drive; to attempt to forcibly remount, call drive.mount(\"/content/drive\", force_remount=True).\n"
          ],
          "name": "stdout"
        },
        {
          "output_type": "error",
          "ename": "FileNotFoundError",
          "evalue": "ignored",
          "traceback": [
            "\u001b[0;31m---------------------------------------------------------------------------\u001b[0m",
            "\u001b[0;31mFileNotFoundError\u001b[0m                         Traceback (most recent call last)",
            "\u001b[0;32m<ipython-input-6-cd5f4dd5f471>\u001b[0m in \u001b[0;36m<module>\u001b[0;34m()\u001b[0m\n\u001b[1;32m      5\u001b[0m \u001b[0mdrive\u001b[0m\u001b[0;34m.\u001b[0m\u001b[0mmount\u001b[0m\u001b[0;34m(\u001b[0m\u001b[0;34m'/content/drive'\u001b[0m\u001b[0;34m)\u001b[0m\u001b[0;34m\u001b[0m\u001b[0;34m\u001b[0m\u001b[0m\n\u001b[1;32m      6\u001b[0m \u001b[0mpath\u001b[0m \u001b[0;34m=\u001b[0m \u001b[0;34m'/content/drive/My Drive/ml_stuff/potential-talents.csv'\u001b[0m\u001b[0;34m\u001b[0m\u001b[0;34m\u001b[0m\u001b[0m\n\u001b[0;32m----> 7\u001b[0;31m \u001b[0mdf\u001b[0m \u001b[0;34m=\u001b[0m \u001b[0mpd\u001b[0m\u001b[0;34m.\u001b[0m\u001b[0mread_csv\u001b[0m\u001b[0;34m(\u001b[0m\u001b[0mpath\u001b[0m\u001b[0;34m)\u001b[0m\u001b[0;34m\u001b[0m\u001b[0;34m\u001b[0m\u001b[0m\n\u001b[0m\u001b[1;32m      8\u001b[0m \u001b[0mdf\u001b[0m\u001b[0;34m.\u001b[0m\u001b[0mhead\u001b[0m\u001b[0;34m(\u001b[0m\u001b[0;34m)\u001b[0m\u001b[0;34m\u001b[0m\u001b[0;34m\u001b[0m\u001b[0m\n",
            "\u001b[0;32m/usr/local/lib/python3.6/dist-packages/pandas/io/parsers.py\u001b[0m in \u001b[0;36mparser_f\u001b[0;34m(filepath_or_buffer, sep, delimiter, header, names, index_col, usecols, squeeze, prefix, mangle_dupe_cols, dtype, engine, converters, true_values, false_values, skipinitialspace, skiprows, skipfooter, nrows, na_values, keep_default_na, na_filter, verbose, skip_blank_lines, parse_dates, infer_datetime_format, keep_date_col, date_parser, dayfirst, cache_dates, iterator, chunksize, compression, thousands, decimal, lineterminator, quotechar, quoting, doublequote, escapechar, comment, encoding, dialect, error_bad_lines, warn_bad_lines, delim_whitespace, low_memory, memory_map, float_precision)\u001b[0m\n\u001b[1;32m    674\u001b[0m         )\n\u001b[1;32m    675\u001b[0m \u001b[0;34m\u001b[0m\u001b[0m\n\u001b[0;32m--> 676\u001b[0;31m         \u001b[0;32mreturn\u001b[0m \u001b[0m_read\u001b[0m\u001b[0;34m(\u001b[0m\u001b[0mfilepath_or_buffer\u001b[0m\u001b[0;34m,\u001b[0m \u001b[0mkwds\u001b[0m\u001b[0;34m)\u001b[0m\u001b[0;34m\u001b[0m\u001b[0;34m\u001b[0m\u001b[0m\n\u001b[0m\u001b[1;32m    677\u001b[0m \u001b[0;34m\u001b[0m\u001b[0m\n\u001b[1;32m    678\u001b[0m     \u001b[0mparser_f\u001b[0m\u001b[0;34m.\u001b[0m\u001b[0m__name__\u001b[0m \u001b[0;34m=\u001b[0m \u001b[0mname\u001b[0m\u001b[0;34m\u001b[0m\u001b[0;34m\u001b[0m\u001b[0m\n",
            "\u001b[0;32m/usr/local/lib/python3.6/dist-packages/pandas/io/parsers.py\u001b[0m in \u001b[0;36m_read\u001b[0;34m(filepath_or_buffer, kwds)\u001b[0m\n\u001b[1;32m    446\u001b[0m \u001b[0;34m\u001b[0m\u001b[0m\n\u001b[1;32m    447\u001b[0m     \u001b[0;31m# Create the parser.\u001b[0m\u001b[0;34m\u001b[0m\u001b[0;34m\u001b[0m\u001b[0;34m\u001b[0m\u001b[0m\n\u001b[0;32m--> 448\u001b[0;31m     \u001b[0mparser\u001b[0m \u001b[0;34m=\u001b[0m \u001b[0mTextFileReader\u001b[0m\u001b[0;34m(\u001b[0m\u001b[0mfp_or_buf\u001b[0m\u001b[0;34m,\u001b[0m \u001b[0;34m**\u001b[0m\u001b[0mkwds\u001b[0m\u001b[0;34m)\u001b[0m\u001b[0;34m\u001b[0m\u001b[0;34m\u001b[0m\u001b[0m\n\u001b[0m\u001b[1;32m    449\u001b[0m \u001b[0;34m\u001b[0m\u001b[0m\n\u001b[1;32m    450\u001b[0m     \u001b[0;32mif\u001b[0m \u001b[0mchunksize\u001b[0m \u001b[0;32mor\u001b[0m \u001b[0miterator\u001b[0m\u001b[0;34m:\u001b[0m\u001b[0;34m\u001b[0m\u001b[0;34m\u001b[0m\u001b[0m\n",
            "\u001b[0;32m/usr/local/lib/python3.6/dist-packages/pandas/io/parsers.py\u001b[0m in \u001b[0;36m__init__\u001b[0;34m(self, f, engine, **kwds)\u001b[0m\n\u001b[1;32m    878\u001b[0m             \u001b[0mself\u001b[0m\u001b[0;34m.\u001b[0m\u001b[0moptions\u001b[0m\u001b[0;34m[\u001b[0m\u001b[0;34m\"has_index_names\"\u001b[0m\u001b[0;34m]\u001b[0m \u001b[0;34m=\u001b[0m \u001b[0mkwds\u001b[0m\u001b[0;34m[\u001b[0m\u001b[0;34m\"has_index_names\"\u001b[0m\u001b[0;34m]\u001b[0m\u001b[0;34m\u001b[0m\u001b[0;34m\u001b[0m\u001b[0m\n\u001b[1;32m    879\u001b[0m \u001b[0;34m\u001b[0m\u001b[0m\n\u001b[0;32m--> 880\u001b[0;31m         \u001b[0mself\u001b[0m\u001b[0;34m.\u001b[0m\u001b[0m_make_engine\u001b[0m\u001b[0;34m(\u001b[0m\u001b[0mself\u001b[0m\u001b[0;34m.\u001b[0m\u001b[0mengine\u001b[0m\u001b[0;34m)\u001b[0m\u001b[0;34m\u001b[0m\u001b[0;34m\u001b[0m\u001b[0m\n\u001b[0m\u001b[1;32m    881\u001b[0m \u001b[0;34m\u001b[0m\u001b[0m\n\u001b[1;32m    882\u001b[0m     \u001b[0;32mdef\u001b[0m \u001b[0mclose\u001b[0m\u001b[0;34m(\u001b[0m\u001b[0mself\u001b[0m\u001b[0;34m)\u001b[0m\u001b[0;34m:\u001b[0m\u001b[0;34m\u001b[0m\u001b[0;34m\u001b[0m\u001b[0m\n",
            "\u001b[0;32m/usr/local/lib/python3.6/dist-packages/pandas/io/parsers.py\u001b[0m in \u001b[0;36m_make_engine\u001b[0;34m(self, engine)\u001b[0m\n\u001b[1;32m   1112\u001b[0m     \u001b[0;32mdef\u001b[0m \u001b[0m_make_engine\u001b[0m\u001b[0;34m(\u001b[0m\u001b[0mself\u001b[0m\u001b[0;34m,\u001b[0m \u001b[0mengine\u001b[0m\u001b[0;34m=\u001b[0m\u001b[0;34m\"c\"\u001b[0m\u001b[0;34m)\u001b[0m\u001b[0;34m:\u001b[0m\u001b[0;34m\u001b[0m\u001b[0;34m\u001b[0m\u001b[0m\n\u001b[1;32m   1113\u001b[0m         \u001b[0;32mif\u001b[0m \u001b[0mengine\u001b[0m \u001b[0;34m==\u001b[0m \u001b[0;34m\"c\"\u001b[0m\u001b[0;34m:\u001b[0m\u001b[0;34m\u001b[0m\u001b[0;34m\u001b[0m\u001b[0m\n\u001b[0;32m-> 1114\u001b[0;31m             \u001b[0mself\u001b[0m\u001b[0;34m.\u001b[0m\u001b[0m_engine\u001b[0m \u001b[0;34m=\u001b[0m \u001b[0mCParserWrapper\u001b[0m\u001b[0;34m(\u001b[0m\u001b[0mself\u001b[0m\u001b[0;34m.\u001b[0m\u001b[0mf\u001b[0m\u001b[0;34m,\u001b[0m \u001b[0;34m**\u001b[0m\u001b[0mself\u001b[0m\u001b[0;34m.\u001b[0m\u001b[0moptions\u001b[0m\u001b[0;34m)\u001b[0m\u001b[0;34m\u001b[0m\u001b[0;34m\u001b[0m\u001b[0m\n\u001b[0m\u001b[1;32m   1115\u001b[0m         \u001b[0;32melse\u001b[0m\u001b[0;34m:\u001b[0m\u001b[0;34m\u001b[0m\u001b[0;34m\u001b[0m\u001b[0m\n\u001b[1;32m   1116\u001b[0m             \u001b[0;32mif\u001b[0m \u001b[0mengine\u001b[0m \u001b[0;34m==\u001b[0m \u001b[0;34m\"python\"\u001b[0m\u001b[0;34m:\u001b[0m\u001b[0;34m\u001b[0m\u001b[0;34m\u001b[0m\u001b[0m\n",
            "\u001b[0;32m/usr/local/lib/python3.6/dist-packages/pandas/io/parsers.py\u001b[0m in \u001b[0;36m__init__\u001b[0;34m(self, src, **kwds)\u001b[0m\n\u001b[1;32m   1889\u001b[0m         \u001b[0mkwds\u001b[0m\u001b[0;34m[\u001b[0m\u001b[0;34m\"usecols\"\u001b[0m\u001b[0;34m]\u001b[0m \u001b[0;34m=\u001b[0m \u001b[0mself\u001b[0m\u001b[0;34m.\u001b[0m\u001b[0musecols\u001b[0m\u001b[0;34m\u001b[0m\u001b[0;34m\u001b[0m\u001b[0m\n\u001b[1;32m   1890\u001b[0m \u001b[0;34m\u001b[0m\u001b[0m\n\u001b[0;32m-> 1891\u001b[0;31m         \u001b[0mself\u001b[0m\u001b[0;34m.\u001b[0m\u001b[0m_reader\u001b[0m \u001b[0;34m=\u001b[0m \u001b[0mparsers\u001b[0m\u001b[0;34m.\u001b[0m\u001b[0mTextReader\u001b[0m\u001b[0;34m(\u001b[0m\u001b[0msrc\u001b[0m\u001b[0;34m,\u001b[0m \u001b[0;34m**\u001b[0m\u001b[0mkwds\u001b[0m\u001b[0;34m)\u001b[0m\u001b[0;34m\u001b[0m\u001b[0;34m\u001b[0m\u001b[0m\n\u001b[0m\u001b[1;32m   1892\u001b[0m         \u001b[0mself\u001b[0m\u001b[0;34m.\u001b[0m\u001b[0munnamed_cols\u001b[0m \u001b[0;34m=\u001b[0m \u001b[0mself\u001b[0m\u001b[0;34m.\u001b[0m\u001b[0m_reader\u001b[0m\u001b[0;34m.\u001b[0m\u001b[0munnamed_cols\u001b[0m\u001b[0;34m\u001b[0m\u001b[0;34m\u001b[0m\u001b[0m\n\u001b[1;32m   1893\u001b[0m \u001b[0;34m\u001b[0m\u001b[0m\n",
            "\u001b[0;32mpandas/_libs/parsers.pyx\u001b[0m in \u001b[0;36mpandas._libs.parsers.TextReader.__cinit__\u001b[0;34m()\u001b[0m\n",
            "\u001b[0;32mpandas/_libs/parsers.pyx\u001b[0m in \u001b[0;36mpandas._libs.parsers.TextReader._setup_parser_source\u001b[0;34m()\u001b[0m\n",
            "\u001b[0;31mFileNotFoundError\u001b[0m: [Errno 2] File /content/drive/My Drive/ml_stuff/potential-talents.csv does not exist: '/content/drive/My Drive/ml_stuff/potential-talents.csv'"
          ]
        }
      ]
    },
    {
      "cell_type": "code",
      "metadata": {
        "id": "9sCzFq55J71q",
        "colab_type": "code",
        "colab": {
          "base_uri": "https://localhost:8080/",
          "height": 272
        },
        "outputId": "e6c72e0c-4bde-4506-8847-120a345067bb"
      },
      "source": [
        "print(df.dtypes)"
      ],
      "execution_count": null,
      "outputs": [
        {
          "output_type": "stream",
          "text": [
            "age           int64\n",
            "job          object\n",
            "marital      object\n",
            "education    object\n",
            "default      object\n",
            "balance       int64\n",
            "housing      object\n",
            "loan         object\n",
            "contact      object\n",
            "day           int64\n",
            "month        object\n",
            "duration      int64\n",
            "campaign      int64\n",
            "y            object\n",
            "dtype: object\n"
          ],
          "name": "stdout"
        }
      ]
    },
    {
      "cell_type": "markdown",
      "metadata": {
        "id": "s8B7FrrB_r32",
        "colab_type": "text"
      },
      "source": [
        "Before throwing the data into any models, we should do some basic exploratory data analysis to get a better understanding, and also to see if we need to do any pre-processing on the data."
      ]
    },
    {
      "cell_type": "code",
      "metadata": {
        "id": "dohFkCrpjYEy",
        "colab_type": "code",
        "colab": {
          "base_uri": "https://localhost:8080/",
          "height": 272
        },
        "outputId": "d7d680f8-07e9-40ab-e7e1-d3678315c0c2"
      },
      "source": [
        "# check if any values are null or empty, we if any are empty we have to do do some pre-processing\n",
        "df.isnull().sum()"
      ],
      "execution_count": null,
      "outputs": [
        {
          "output_type": "execute_result",
          "data": {
            "text/plain": [
              "age          0\n",
              "job          0\n",
              "marital      0\n",
              "education    0\n",
              "default      0\n",
              "balance      0\n",
              "housing      0\n",
              "loan         0\n",
              "contact      0\n",
              "day          0\n",
              "month        0\n",
              "duration     0\n",
              "campaign     0\n",
              "y            0\n",
              "dtype: int64"
            ]
          },
          "metadata": {
            "tags": []
          },
          "execution_count": 4
        }
      ]
    },
    {
      "cell_type": "code",
      "metadata": {
        "id": "QDgibvPzRn7i",
        "colab_type": "code",
        "colab": {
          "base_uri": "https://localhost:8080/",
          "height": 297
        },
        "outputId": "3f22b2b7-a7a9-489d-8533-5f81de7a109e"
      },
      "source": [
        "# some stats on the features\n",
        "df.describe()"
      ],
      "execution_count": null,
      "outputs": [
        {
          "output_type": "execute_result",
          "data": {
            "text/html": [
              "<div>\n",
              "<style scoped>\n",
              "    .dataframe tbody tr th:only-of-type {\n",
              "        vertical-align: middle;\n",
              "    }\n",
              "\n",
              "    .dataframe tbody tr th {\n",
              "        vertical-align: top;\n",
              "    }\n",
              "\n",
              "    .dataframe thead th {\n",
              "        text-align: right;\n",
              "    }\n",
              "</style>\n",
              "<table border=\"1\" class=\"dataframe\">\n",
              "  <thead>\n",
              "    <tr style=\"text-align: right;\">\n",
              "      <th></th>\n",
              "      <th>age</th>\n",
              "      <th>balance</th>\n",
              "      <th>day</th>\n",
              "      <th>duration</th>\n",
              "      <th>campaign</th>\n",
              "    </tr>\n",
              "  </thead>\n",
              "  <tbody>\n",
              "    <tr>\n",
              "      <th>count</th>\n",
              "      <td>40000.000000</td>\n",
              "      <td>40000.000000</td>\n",
              "      <td>40000.000000</td>\n",
              "      <td>40000.000000</td>\n",
              "      <td>40000.000000</td>\n",
              "    </tr>\n",
              "    <tr>\n",
              "      <th>mean</th>\n",
              "      <td>40.544600</td>\n",
              "      <td>1274.277550</td>\n",
              "      <td>16.017225</td>\n",
              "      <td>254.824300</td>\n",
              "      <td>2.882175</td>\n",
              "    </tr>\n",
              "    <tr>\n",
              "      <th>std</th>\n",
              "      <td>9.641776</td>\n",
              "      <td>2903.769716</td>\n",
              "      <td>8.278127</td>\n",
              "      <td>259.366498</td>\n",
              "      <td>3.239051</td>\n",
              "    </tr>\n",
              "    <tr>\n",
              "      <th>min</th>\n",
              "      <td>19.000000</td>\n",
              "      <td>-8019.000000</td>\n",
              "      <td>1.000000</td>\n",
              "      <td>0.000000</td>\n",
              "      <td>1.000000</td>\n",
              "    </tr>\n",
              "    <tr>\n",
              "      <th>25%</th>\n",
              "      <td>33.000000</td>\n",
              "      <td>54.000000</td>\n",
              "      <td>8.000000</td>\n",
              "      <td>100.000000</td>\n",
              "      <td>1.000000</td>\n",
              "    </tr>\n",
              "    <tr>\n",
              "      <th>50%</th>\n",
              "      <td>39.000000</td>\n",
              "      <td>407.000000</td>\n",
              "      <td>17.000000</td>\n",
              "      <td>175.000000</td>\n",
              "      <td>2.000000</td>\n",
              "    </tr>\n",
              "    <tr>\n",
              "      <th>75%</th>\n",
              "      <td>48.000000</td>\n",
              "      <td>1319.000000</td>\n",
              "      <td>21.000000</td>\n",
              "      <td>313.000000</td>\n",
              "      <td>3.000000</td>\n",
              "    </tr>\n",
              "    <tr>\n",
              "      <th>max</th>\n",
              "      <td>95.000000</td>\n",
              "      <td>102127.000000</td>\n",
              "      <td>31.000000</td>\n",
              "      <td>4918.000000</td>\n",
              "      <td>63.000000</td>\n",
              "    </tr>\n",
              "  </tbody>\n",
              "</table>\n",
              "</div>"
            ],
            "text/plain": [
              "                age        balance           day      duration      campaign\n",
              "count  40000.000000   40000.000000  40000.000000  40000.000000  40000.000000\n",
              "mean      40.544600    1274.277550     16.017225    254.824300      2.882175\n",
              "std        9.641776    2903.769716      8.278127    259.366498      3.239051\n",
              "min       19.000000   -8019.000000      1.000000      0.000000      1.000000\n",
              "25%       33.000000      54.000000      8.000000    100.000000      1.000000\n",
              "50%       39.000000     407.000000     17.000000    175.000000      2.000000\n",
              "75%       48.000000    1319.000000     21.000000    313.000000      3.000000\n",
              "max       95.000000  102127.000000     31.000000   4918.000000     63.000000"
            ]
          },
          "metadata": {
            "tags": []
          },
          "execution_count": 5
        }
      ]
    },
    {
      "cell_type": "code",
      "metadata": {
        "id": "xwqAU8wIkhWS",
        "colab_type": "code",
        "colab": {
          "base_uri": "https://localhost:8080/",
          "height": 624
        },
        "outputId": "b9c17d13-a1e6-418c-ed26-4524bba2becd"
      },
      "source": [
        "# check distribution between classes\n",
        "classes, class_counts = np.unique(df['y'], return_counts=True)\n",
        "working_df = df.drop('y', axis=1)\n",
        "means = working_df.describe(include='all').loc['mean']\n",
        "stds = working_df.describe(include='all').loc['std']\n",
        "counts = working_df.describe(include='all').loc['count']\n",
        "\n",
        "labels = means.keys()\n",
        "\n",
        "x = working_df.columns\n",
        "width = 0.35  # the width of the bars\n",
        "\n",
        "\n",
        "fig, ax = plt.subplots(2, 2, figsize=(20,10))\n",
        "\n",
        "# display feature means\n",
        "ax[0][0].bar(x, means, width)\n",
        "ax[0][0].set_xticks(x)\n",
        "ax[0][0].set_title('Feature Means')\n",
        "\n",
        "# display standard deviations\n",
        "ax[0][1].bar(x, stds, width)\n",
        "ax[0][1].set_xticks(x)\n",
        "ax[0][1].set_title('Feature Standard Deviations')\n",
        "\n",
        "# display counts per feature\n",
        "ax[1][0].bar(x, counts, width)\n",
        "ax[1][0].set_xticks(x)\n",
        "ax[1][0].set_title('Feature Row Counts')\n",
        "\n",
        "# display class distribution\n",
        "ax[1][1].bar(classes, class_counts, width)\n",
        "ax[1][1].set_xticks(np.arange(2))\n",
        "ax[1][1].set_xticklabels(classes)\n",
        "ax[1][1].set_title('Class Distributions')\n",
        "\n"
      ],
      "execution_count": null,
      "outputs": [
        {
          "output_type": "execute_result",
          "data": {
            "text/plain": [
              "Text(0.5, 1.0, 'Class Distributions')"
            ]
          },
          "metadata": {
            "tags": []
          },
          "execution_count": 6
        },
        {
          "output_type": "display_data",
          "data": {
            "image/png": "[encoded data removed]",
            "text/plain": [
              "<Figure size 1440x720 with 4 Axes>"
            ]
          },
          "metadata": {
            "tags": [],
            "needs_background": "light"
          }
        }
      ]
    },
    {
      "cell_type": "code",
      "metadata": {
        "id": "MHKmm0DmjAbR",
        "colab_type": "code",
        "colab": {
          "base_uri": "https://localhost:8080/",
          "height": 68
        },
        "outputId": "c1c04ce1-e78a-4c25-901f-39c035f74e07"
      },
      "source": [
        "df['y'].value_counts()"
      ],
      "execution_count": null,
      "outputs": [
        {
          "output_type": "execute_result",
          "data": {
            "text/plain": [
              "no     37104\n",
              "yes     2896\n",
              "Name: y, dtype: int64"
            ]
          },
          "metadata": {
            "tags": []
          },
          "execution_count": 7
        }
      ]
    },
    {
      "cell_type": "markdown",
      "metadata": {
        "id": "JZ-5GOITW3zv",
        "colab_type": "text"
      },
      "source": [
        "So after taking a quick look at the statistics above we can learn a few things about the dataset.\n",
        "\n",
        "1. The classes are heavily unbalanced. There is a factor of larger than 10 between the no's in the dataset and the yes'. We will definitely need to do something about that when training.\n",
        "2. There are no missing values, which is good. We don't have to fill or delete any rows due to that reason.\n",
        "3. It looks like balance, then duration have siginificantly higher values than the rest of the classes. Whether or not we will need to standardize these values is yet to be unseen, but it is a possibility."
      ]
    },
    {
      "cell_type": "markdown",
      "metadata": {
        "id": "GBv7LbOSqKZu",
        "colab_type": "text"
      },
      "source": [
        "# Data Transformation"
      ]
    },
    {
      "cell_type": "markdown",
      "metadata": {
        "id": "lrbKpVh5x1Hj",
        "colab_type": "text"
      },
      "source": [
        "### Transforming the binary columns\n",
        "\n",
        "Currently the dataset is not usable in a machine learning model. Model's require integers to be able to gain meaning from the data. For example, models do not know the difference between the months January and March just by text, or even yes vs. no.\n",
        "\n",
        "First let's change the yes/no columns into 1's and 0's. 1's will represent yes' and 0's will represent no's."
      ]
    },
    {
      "cell_type": "code",
      "metadata": {
        "id": "w2u7JeQmqQbq",
        "colab_type": "code",
        "colab": {
          "base_uri": "https://localhost:8080/",
          "height": 204
        },
        "outputId": "0265384f-46fe-4420-ae51-fb41e57eeb42"
      },
      "source": [
        "# change yes and no values on y to 1 and 0\n",
        "df.loc[df['y'] == 'yes', 'y'] = 1\n",
        "df.loc[df['y'] == 'no', 'y'] = 0\n",
        "df['y'] = df['y'].astype('int')\n",
        "\n",
        "df.loc[df['loan'] == 'yes', 'loan'] = 1\n",
        "df.loc[df['loan'] == 'no', 'loan'] = 0\n",
        "df['loan'] = df['loan'].astype('int')\n",
        "\n",
        "df.loc[df['housing'] == 'yes', 'housing'] = 1\n",
        "df.loc[df['housing'] == 'no', 'housing'] = 0\n",
        "df['housing'] = df['housing'].astype('int')\n",
        "\n",
        "df.loc[df['default'] == 'yes', 'default'] = 1\n",
        "df.loc[df['default'] == 'no', 'default'] = 0\n",
        "df['default'] = df['default'].astype('int')\n",
        "\n",
        "df.head()"
      ],
      "execution_count": null,
      "outputs": [
        {
          "output_type": "execute_result",
          "data": {
            "text/html": [
              "<div>\n",
              "<style scoped>\n",
              "    .dataframe tbody tr th:only-of-type {\n",
              "        vertical-align: middle;\n",
              "    }\n",
              "\n",
              "    .dataframe tbody tr th {\n",
              "        vertical-align: top;\n",
              "    }\n",
              "\n",
              "    .dataframe thead th {\n",
              "        text-align: right;\n",
              "    }\n",
              "</style>\n",
              "<table border=\"1\" class=\"dataframe\">\n",
              "  <thead>\n",
              "    <tr style=\"text-align: right;\">\n",
              "      <th></th>\n",
              "      <th>age</th>\n",
              "      <th>job</th>\n",
              "      <th>marital</th>\n",
              "      <th>education</th>\n",
              "      <th>default</th>\n",
              "      <th>balance</th>\n",
              "      <th>housing</th>\n",
              "      <th>loan</th>\n",
              "      <th>contact</th>\n",
              "      <th>day</th>\n",
              "      <th>month</th>\n",
              "      <th>duration</th>\n",
              "      <th>campaign</th>\n",
              "      <th>y</th>\n",
              "    </tr>\n",
              "  </thead>\n",
              "  <tbody>\n",
              "    <tr>\n",
              "      <th>0</th>\n",
              "      <td>58</td>\n",
              "      <td>management</td>\n",
              "      <td>married</td>\n",
              "      <td>tertiary</td>\n",
              "      <td>0</td>\n",
              "      <td>2143</td>\n",
              "      <td>1</td>\n",
              "      <td>0</td>\n",
              "      <td>unknown</td>\n",
              "      <td>5</td>\n",
              "      <td>may</td>\n",
              "      <td>261</td>\n",
              "      <td>1</td>\n",
              "      <td>0</td>\n",
              "    </tr>\n",
              "    <tr>\n",
              "      <th>1</th>\n",
              "      <td>44</td>\n",
              "      <td>technician</td>\n",
              "      <td>single</td>\n",
              "      <td>secondary</td>\n",
              "      <td>0</td>\n",
              "      <td>29</td>\n",
              "      <td>1</td>\n",
              "      <td>0</td>\n",
              "      <td>unknown</td>\n",
              "      <td>5</td>\n",
              "      <td>may</td>\n",
              "      <td>151</td>\n",
              "      <td>1</td>\n",
              "      <td>0</td>\n",
              "    </tr>\n",
              "    <tr>\n",
              "      <th>2</th>\n",
              "      <td>33</td>\n",
              "      <td>entrepreneur</td>\n",
              "      <td>married</td>\n",
              "      <td>secondary</td>\n",
              "      <td>0</td>\n",
              "      <td>2</td>\n",
              "      <td>1</td>\n",
              "      <td>1</td>\n",
              "      <td>unknown</td>\n",
              "      <td>5</td>\n",
              "      <td>may</td>\n",
              "      <td>76</td>\n",
              "      <td>1</td>\n",
              "      <td>0</td>\n",
              "    </tr>\n",
              "    <tr>\n",
              "      <th>3</th>\n",
              "      <td>47</td>\n",
              "      <td>blue-collar</td>\n",
              "      <td>married</td>\n",
              "      <td>unknown</td>\n",
              "      <td>0</td>\n",
              "      <td>1506</td>\n",
              "      <td>1</td>\n",
              "      <td>0</td>\n",
              "      <td>unknown</td>\n",
              "      <td>5</td>\n",
              "      <td>may</td>\n",
              "      <td>92</td>\n",
              "      <td>1</td>\n",
              "      <td>0</td>\n",
              "    </tr>\n",
              "    <tr>\n",
              "      <th>4</th>\n",
              "      <td>33</td>\n",
              "      <td>unknown</td>\n",
              "      <td>single</td>\n",
              "      <td>unknown</td>\n",
              "      <td>0</td>\n",
              "      <td>1</td>\n",
              "      <td>0</td>\n",
              "      <td>0</td>\n",
              "      <td>unknown</td>\n",
              "      <td>5</td>\n",
              "      <td>may</td>\n",
              "      <td>198</td>\n",
              "      <td>1</td>\n",
              "      <td>0</td>\n",
              "    </tr>\n",
              "  </tbody>\n",
              "</table>\n",
              "</div>"
            ],
            "text/plain": [
              "   age           job  marital  education  ...  month  duration  campaign  y\n",
              "0   58    management  married   tertiary  ...    may       261         1  0\n",
              "1   44    technician   single  secondary  ...    may       151         1  0\n",
              "2   33  entrepreneur  married  secondary  ...    may        76         1  0\n",
              "3   47   blue-collar  married    unknown  ...    may        92         1  0\n",
              "4   33       unknown   single    unknown  ...    may       198         1  0\n",
              "\n",
              "[5 rows x 14 columns]"
            ]
          },
          "metadata": {
            "tags": []
          },
          "execution_count": 8
        }
      ]
    },
    {
      "cell_type": "markdown",
      "metadata": {
        "id": "h-axIvbWx5dE",
        "colab_type": "text"
      },
      "source": [
        "### Transforming Categorical Data\n"
      ]
    },
    {
      "cell_type": "markdown",
      "metadata": {
        "id": "XEOlBMKMeG62",
        "colab_type": "text"
      },
      "source": [
        "The dataset also contains categorical data. To be able to utilize this data, we must also transform the categories into numbers.\n",
        "\n",
        "We can do this by changing the columns to datatype categories, the getting the category codes and inserting them into the dataframe as new columns."
      ]
    },
    {
      "cell_type": "code",
      "metadata": {
        "id": "0oabo5rnwwQ7",
        "colab_type": "code",
        "colab": {}
      },
      "source": [
        "# change columns into categoricals\n",
        "df['job'] = df['job'].astype('category')\n",
        "df['job_cat'] = df['job'].cat.codes\n",
        "df['marital'] = df['marital'].astype('category')\n",
        "df['marital_cat'] = df['marital'].cat.codes\n",
        "df['education'] = df['education'].astype('category')\n",
        "df['education_cat'] = df['education'].cat.codes\n",
        "df['month'] = df['month'].astype('category')\n",
        "df['month_cat'] = df['month'].cat.codes\n",
        "df['contact'] = df['contact'].astype('category')\n",
        "df['contact_cat'] = df['contact'].cat.codes"
      ],
      "execution_count": null,
      "outputs": []
    },
    {
      "cell_type": "code",
      "metadata": {
        "id": "fI8ACGekwpDf",
        "colab_type": "code",
        "colab": {
          "base_uri": "https://localhost:8080/",
          "height": 357
        },
        "outputId": "44d26f49-a95e-4bd5-f803-108ffbe46838"
      },
      "source": [
        "df.dtypes"
      ],
      "execution_count": null,
      "outputs": [
        {
          "output_type": "execute_result",
          "data": {
            "text/plain": [
              "age                 int64\n",
              "job              category\n",
              "marital          category\n",
              "education        category\n",
              "default             int64\n",
              "balance             int64\n",
              "housing             int64\n",
              "loan                int64\n",
              "contact          category\n",
              "day                 int64\n",
              "month            category\n",
              "duration            int64\n",
              "campaign            int64\n",
              "y                   int64\n",
              "job_cat              int8\n",
              "marital_cat          int8\n",
              "education_cat        int8\n",
              "month_cat            int8\n",
              "contact_cat          int8\n",
              "dtype: object"
            ]
          },
          "metadata": {
            "tags": []
          },
          "execution_count": 10
        }
      ]
    },
    {
      "cell_type": "code",
      "metadata": {
        "id": "-vLBEkRLk6pG",
        "colab_type": "code",
        "colab": {
          "base_uri": "https://localhost:8080/",
          "height": 204
        },
        "outputId": "3927233c-9edb-4cae-f23e-7ad7a8c12b25"
      },
      "source": [
        "df.head()"
      ],
      "execution_count": null,
      "outputs": [
        {
          "output_type": "execute_result",
          "data": {
            "text/html": [
              "<div>\n",
              "<style scoped>\n",
              "    .dataframe tbody tr th:only-of-type {\n",
              "        vertical-align: middle;\n",
              "    }\n",
              "\n",
              "    .dataframe tbody tr th {\n",
              "        vertical-align: top;\n",
              "    }\n",
              "\n",
              "    .dataframe thead th {\n",
              "        text-align: right;\n",
              "    }\n",
              "</style>\n",
              "<table border=\"1\" class=\"dataframe\">\n",
              "  <thead>\n",
              "    <tr style=\"text-align: right;\">\n",
              "      <th></th>\n",
              "      <th>age</th>\n",
              "      <th>job</th>\n",
              "      <th>marital</th>\n",
              "      <th>education</th>\n",
              "      <th>default</th>\n",
              "      <th>balance</th>\n",
              "      <th>housing</th>\n",
              "      <th>loan</th>\n",
              "      <th>contact</th>\n",
              "      <th>day</th>\n",
              "      <th>month</th>\n",
              "      <th>duration</th>\n",
              "      <th>campaign</th>\n",
              "      <th>y</th>\n",
              "      <th>job_cat</th>\n",
              "      <th>marital_cat</th>\n",
              "      <th>education_cat</th>\n",
              "      <th>month_cat</th>\n",
              "      <th>contact_cat</th>\n",
              "    </tr>\n",
              "  </thead>\n",
              "  <tbody>\n",
              "    <tr>\n",
              "      <th>0</th>\n",
              "      <td>58</td>\n",
              "      <td>management</td>\n",
              "      <td>married</td>\n",
              "      <td>tertiary</td>\n",
              "      <td>0</td>\n",
              "      <td>2143</td>\n",
              "      <td>1</td>\n",
              "      <td>0</td>\n",
              "      <td>unknown</td>\n",
              "      <td>5</td>\n",
              "      <td>may</td>\n",
              "      <td>261</td>\n",
              "      <td>1</td>\n",
              "      <td>0</td>\n",
              "      <td>4</td>\n",
              "      <td>1</td>\n",
              "      <td>2</td>\n",
              "      <td>8</td>\n",
              "      <td>2</td>\n",
              "    </tr>\n",
              "    <tr>\n",
              "      <th>1</th>\n",
              "      <td>44</td>\n",
              "      <td>technician</td>\n",
              "      <td>single</td>\n",
              "      <td>secondary</td>\n",
              "      <td>0</td>\n",
              "      <td>29</td>\n",
              "      <td>1</td>\n",
              "      <td>0</td>\n",
              "      <td>unknown</td>\n",
              "      <td>5</td>\n",
              "      <td>may</td>\n",
              "      <td>151</td>\n",
              "      <td>1</td>\n",
              "      <td>0</td>\n",
              "      <td>9</td>\n",
              "      <td>2</td>\n",
              "      <td>1</td>\n",
              "      <td>8</td>\n",
              "      <td>2</td>\n",
              "    </tr>\n",
              "    <tr>\n",
              "      <th>2</th>\n",
              "      <td>33</td>\n",
              "      <td>entrepreneur</td>\n",
              "      <td>married</td>\n",
              "      <td>secondary</td>\n",
              "      <td>0</td>\n",
              "      <td>2</td>\n",
              "      <td>1</td>\n",
              "      <td>1</td>\n",
              "      <td>unknown</td>\n",
              "      <td>5</td>\n",
              "      <td>may</td>\n",
              "      <td>76</td>\n",
              "      <td>1</td>\n",
              "      <td>0</td>\n",
              "      <td>2</td>\n",
              "      <td>1</td>\n",
              "      <td>1</td>\n",
              "      <td>8</td>\n",
              "      <td>2</td>\n",
              "    </tr>\n",
              "    <tr>\n",
              "      <th>3</th>\n",
              "      <td>47</td>\n",
              "      <td>blue-collar</td>\n",
              "      <td>married</td>\n",
              "      <td>unknown</td>\n",
              "      <td>0</td>\n",
              "      <td>1506</td>\n",
              "      <td>1</td>\n",
              "      <td>0</td>\n",
              "      <td>unknown</td>\n",
              "      <td>5</td>\n",
              "      <td>may</td>\n",
              "      <td>92</td>\n",
              "      <td>1</td>\n",
              "      <td>0</td>\n",
              "      <td>1</td>\n",
              "      <td>1</td>\n",
              "      <td>3</td>\n",
              "      <td>8</td>\n",
              "      <td>2</td>\n",
              "    </tr>\n",
              "    <tr>\n",
              "      <th>4</th>\n",
              "      <td>33</td>\n",
              "      <td>unknown</td>\n",
              "      <td>single</td>\n",
              "      <td>unknown</td>\n",
              "      <td>0</td>\n",
              "      <td>1</td>\n",
              "      <td>0</td>\n",
              "      <td>0</td>\n",
              "      <td>unknown</td>\n",
              "      <td>5</td>\n",
              "      <td>may</td>\n",
              "      <td>198</td>\n",
              "      <td>1</td>\n",
              "      <td>0</td>\n",
              "      <td>11</td>\n",
              "      <td>2</td>\n",
              "      <td>3</td>\n",
              "      <td>8</td>\n",
              "      <td>2</td>\n",
              "    </tr>\n",
              "  </tbody>\n",
              "</table>\n",
              "</div>"
            ],
            "text/plain": [
              "   age           job  marital  ... education_cat  month_cat  contact_cat\n",
              "0   58    management  married  ...             2          8            2\n",
              "1   44    technician   single  ...             1          8            2\n",
              "2   33  entrepreneur  married  ...             1          8            2\n",
              "3   47   blue-collar  married  ...             3          8            2\n",
              "4   33       unknown   single  ...             3          8            2\n",
              "\n",
              "[5 rows x 19 columns]"
            ]
          },
          "metadata": {
            "tags": []
          },
          "execution_count": 11
        }
      ]
    },
    {
      "cell_type": "markdown",
      "metadata": {
        "id": "f4tqsCWVec-Q",
        "colab_type": "text"
      },
      "source": [
        "We can then remove the original categorical columns in the dataset, which leaves us with a dataset that consists of only numbers."
      ]
    },
    {
      "cell_type": "code",
      "metadata": {
        "id": "wQVOG503k8jK",
        "colab_type": "code",
        "colab": {
          "base_uri": "https://localhost:8080/",
          "height": 204
        },
        "outputId": "5a4ac83b-2821-4d70-be1a-7a3c62df1d67"
      },
      "source": [
        "# drop string features to make a df the models can work with\n",
        "working_df = df.copy()\n",
        "\n",
        "working_df = working_df.drop('job', axis=1)\n",
        "working_df = working_df.drop('marital', axis=1)\n",
        "working_df = working_df.drop('education', axis=1)\n",
        "working_df = working_df.drop('month', axis=1)\n",
        "working_df = working_df.drop('contact', axis=1)\n",
        "\n",
        "working_df.head()"
      ],
      "execution_count": null,
      "outputs": [
        {
          "output_type": "execute_result",
          "data": {
            "text/html": [
              "<div>\n",
              "<style scoped>\n",
              "    .dataframe tbody tr th:only-of-type {\n",
              "        vertical-align: middle;\n",
              "    }\n",
              "\n",
              "    .dataframe tbody tr th {\n",
              "        vertical-align: top;\n",
              "    }\n",
              "\n",
              "    .dataframe thead th {\n",
              "        text-align: right;\n",
              "    }\n",
              "</style>\n",
              "<table border=\"1\" class=\"dataframe\">\n",
              "  <thead>\n",
              "    <tr style=\"text-align: right;\">\n",
              "      <th></th>\n",
              "      <th>age</th>\n",
              "      <th>default</th>\n",
              "      <th>balance</th>\n",
              "      <th>housing</th>\n",
              "      <th>loan</th>\n",
              "      <th>day</th>\n",
              "      <th>duration</th>\n",
              "      <th>campaign</th>\n",
              "      <th>y</th>\n",
              "      <th>job_cat</th>\n",
              "      <th>marital_cat</th>\n",
              "      <th>education_cat</th>\n",
              "      <th>month_cat</th>\n",
              "      <th>contact_cat</th>\n",
              "    </tr>\n",
              "  </thead>\n",
              "  <tbody>\n",
              "    <tr>\n",
              "      <th>0</th>\n",
              "      <td>58</td>\n",
              "      <td>0</td>\n",
              "      <td>2143</td>\n",
              "      <td>1</td>\n",
              "      <td>0</td>\n",
              "      <td>5</td>\n",
              "      <td>261</td>\n",
              "      <td>1</td>\n",
              "      <td>0</td>\n",
              "      <td>4</td>\n",
              "      <td>1</td>\n",
              "      <td>2</td>\n",
              "      <td>8</td>\n",
              "      <td>2</td>\n",
              "    </tr>\n",
              "    <tr>\n",
              "      <th>1</th>\n",
              "      <td>44</td>\n",
              "      <td>0</td>\n",
              "      <td>29</td>\n",
              "      <td>1</td>\n",
              "      <td>0</td>\n",
              "      <td>5</td>\n",
              "      <td>151</td>\n",
              "      <td>1</td>\n",
              "      <td>0</td>\n",
              "      <td>9</td>\n",
              "      <td>2</td>\n",
              "      <td>1</td>\n",
              "      <td>8</td>\n",
              "      <td>2</td>\n",
              "    </tr>\n",
              "    <tr>\n",
              "      <th>2</th>\n",
              "      <td>33</td>\n",
              "      <td>0</td>\n",
              "      <td>2</td>\n",
              "      <td>1</td>\n",
              "      <td>1</td>\n",
              "      <td>5</td>\n",
              "      <td>76</td>\n",
              "      <td>1</td>\n",
              "      <td>0</td>\n",
              "      <td>2</td>\n",
              "      <td>1</td>\n",
              "      <td>1</td>\n",
              "      <td>8</td>\n",
              "      <td>2</td>\n",
              "    </tr>\n",
              "    <tr>\n",
              "      <th>3</th>\n",
              "      <td>47</td>\n",
              "      <td>0</td>\n",
              "      <td>1506</td>\n",
              "      <td>1</td>\n",
              "      <td>0</td>\n",
              "      <td>5</td>\n",
              "      <td>92</td>\n",
              "      <td>1</td>\n",
              "      <td>0</td>\n",
              "      <td>1</td>\n",
              "      <td>1</td>\n",
              "      <td>3</td>\n",
              "      <td>8</td>\n",
              "      <td>2</td>\n",
              "    </tr>\n",
              "    <tr>\n",
              "      <th>4</th>\n",
              "      <td>33</td>\n",
              "      <td>0</td>\n",
              "      <td>1</td>\n",
              "      <td>0</td>\n",
              "      <td>0</td>\n",
              "      <td>5</td>\n",
              "      <td>198</td>\n",
              "      <td>1</td>\n",
              "      <td>0</td>\n",
              "      <td>11</td>\n",
              "      <td>2</td>\n",
              "      <td>3</td>\n",
              "      <td>8</td>\n",
              "      <td>2</td>\n",
              "    </tr>\n",
              "  </tbody>\n",
              "</table>\n",
              "</div>"
            ],
            "text/plain": [
              "   age  default  balance  ...  education_cat  month_cat  contact_cat\n",
              "0   58        0     2143  ...              2          8            2\n",
              "1   44        0       29  ...              1          8            2\n",
              "2   33        0        2  ...              1          8            2\n",
              "3   47        0     1506  ...              3          8            2\n",
              "4   33        0        1  ...              3          8            2\n",
              "\n",
              "[5 rows x 14 columns]"
            ]
          },
          "metadata": {
            "tags": []
          },
          "execution_count": 12
        }
      ]
    },
    {
      "cell_type": "code",
      "metadata": {
        "id": "3H3C7rgKlXD5",
        "colab_type": "code",
        "colab": {
          "base_uri": "https://localhost:8080/",
          "height": 272
        },
        "outputId": "e99e6f9b-2c37-42f6-9c8c-8d82ce4df802"
      },
      "source": [
        "working_df.dtypes"
      ],
      "execution_count": null,
      "outputs": [
        {
          "output_type": "execute_result",
          "data": {
            "text/plain": [
              "age              int64\n",
              "default          int64\n",
              "balance          int64\n",
              "housing          int64\n",
              "loan             int64\n",
              "day              int64\n",
              "duration         int64\n",
              "campaign         int64\n",
              "y                int64\n",
              "job_cat           int8\n",
              "marital_cat       int8\n",
              "education_cat     int8\n",
              "month_cat         int8\n",
              "contact_cat       int8\n",
              "dtype: object"
            ]
          },
          "metadata": {
            "tags": []
          },
          "execution_count": 13
        }
      ]
    },
    {
      "cell_type": "markdown",
      "metadata": {
        "id": "s3nf0S5Hn5uD",
        "colab_type": "text"
      },
      "source": [
        "# Resampling the data\n",
        "\n",
        "As seen above, the classes in the dataset are severely unbalanced. There are two approaches to dealing with this problem, oversampling and undersampling."
      ]
    },
    {
      "cell_type": "markdown",
      "metadata": {
        "id": "n_QTUpMDsivg",
        "colab_type": "text"
      },
      "source": [
        "### Undersampling the Data\n",
        "\n",
        "As we undersample the data, we are getting the class with the lower amount of samples, then randomly sampling the class with the higher amount of samples. The result is a dataset that is perfectly balanced with a 1:1 ratio.\n",
        "\n",
        "The caveat with this method is that we inherently have less data to work with in the dataset."
      ]
    },
    {
      "cell_type": "code",
      "metadata": {
        "id": "7uIZIGcDnpM7",
        "colab_type": "code",
        "colab": {
          "base_uri": "https://localhost:8080/",
          "height": 312
        },
        "outputId": "04c23475-eae5-4881-812a-c2140b4fa2e3"
      },
      "source": [
        "# class counts\n",
        "no_class_count, yes_class_count = working_df['y'].value_counts()\n",
        "print(yes_class_count)\n",
        "\n",
        "working_df[working_df['y'] == 1].head()\n",
        "\n",
        "df_class_no_under = working_df[working_df['y'] == 0].sample(yes_class_count)\n",
        "\n",
        "df_under = pd.concat([df_class_no_under, working_df[working_df['y'] == 1]], axis=0)\n",
        "\n",
        "df_under['y'].value_counts().plot(kind='bar', title='Undersampled Class Distribution')"
      ],
      "execution_count": null,
      "outputs": [
        {
          "output_type": "stream",
          "text": [
            "2896\n"
          ],
          "name": "stdout"
        },
        {
          "output_type": "execute_result",
          "data": {
            "text/plain": [
              "<matplotlib.axes._subplots.AxesSubplot at 0x7efcb7dbde48>"
            ]
          },
          "metadata": {
            "tags": []
          },
          "execution_count": 14
        },
        {
          "output_type": "display_data",
          "data": {
            "image/png": "[encoded data removed]",
            "text/plain": [
              "<Figure size 432x288 with 1 Axes>"
            ]
          },
          "metadata": {
            "tags": [],
            "needs_background": "light"
          }
        }
      ]
    },
    {
      "cell_type": "code",
      "metadata": {
        "id": "UGgms7gkeJ2K",
        "colab_type": "code",
        "colab": {
          "base_uri": "https://localhost:8080/",
          "height": 297
        },
        "outputId": "ad852a59-e0c1-4d14-ea35-c87efdb82188"
      },
      "source": [
        "df_under.describe()"
      ],
      "execution_count": null,
      "outputs": [
        {
          "output_type": "execute_result",
          "data": {
            "text/html": [
              "<div>\n",
              "<style scoped>\n",
              "    .dataframe tbody tr th:only-of-type {\n",
              "        vertical-align: middle;\n",
              "    }\n",
              "\n",
              "    .dataframe tbody tr th {\n",
              "        vertical-align: top;\n",
              "    }\n",
              "\n",
              "    .dataframe thead th {\n",
              "        text-align: right;\n",
              "    }\n",
              "</style>\n",
              "<table border=\"1\" class=\"dataframe\">\n",
              "  <thead>\n",
              "    <tr style=\"text-align: right;\">\n",
              "      <th></th>\n",
              "      <th>age</th>\n",
              "      <th>default</th>\n",
              "      <th>balance</th>\n",
              "      <th>housing</th>\n",
              "      <th>loan</th>\n",
              "      <th>day</th>\n",
              "      <th>duration</th>\n",
              "      <th>campaign</th>\n",
              "      <th>y</th>\n",
              "      <th>job_cat</th>\n",
              "      <th>marital_cat</th>\n",
              "      <th>education_cat</th>\n",
              "      <th>month_cat</th>\n",
              "      <th>contact_cat</th>\n",
              "    </tr>\n",
              "  </thead>\n",
              "  <tbody>\n",
              "    <tr>\n",
              "      <th>count</th>\n",
              "      <td>5792.000000</td>\n",
              "      <td>5792.000000</td>\n",
              "      <td>5792.000000</td>\n",
              "      <td>5792.000000</td>\n",
              "      <td>5792.000000</td>\n",
              "      <td>5792.000000</td>\n",
              "      <td>5792.000000</td>\n",
              "      <td>5792.000000</td>\n",
              "      <td>5792.000000</td>\n",
              "      <td>5792.000000</td>\n",
              "      <td>5792.000000</td>\n",
              "      <td>5792.000000</td>\n",
              "      <td>5792.000000</td>\n",
              "      <td>5792.000000</td>\n",
              "    </tr>\n",
              "    <tr>\n",
              "      <th>mean</th>\n",
              "      <td>40.263812</td>\n",
              "      <td>0.021754</td>\n",
              "      <td>1411.226865</td>\n",
              "      <td>0.546271</td>\n",
              "      <td>0.150207</td>\n",
              "      <td>15.831837</td>\n",
              "      <td>454.406595</td>\n",
              "      <td>2.627417</td>\n",
              "      <td>0.500000</td>\n",
              "      <td>4.375691</td>\n",
              "      <td>1.185773</td>\n",
              "      <td>1.252244</td>\n",
              "      <td>5.256388</td>\n",
              "      <td>0.558874</td>\n",
              "    </tr>\n",
              "    <tr>\n",
              "      <th>std</th>\n",
              "      <td>10.278213</td>\n",
              "      <td>0.145892</td>\n",
              "      <td>3001.612256</td>\n",
              "      <td>0.497897</td>\n",
              "      <td>0.357305</td>\n",
              "      <td>8.445363</td>\n",
              "      <td>408.905776</td>\n",
              "      <td>2.731335</td>\n",
              "      <td>0.500043</td>\n",
              "      <td>3.292627</td>\n",
              "      <td>0.634324</td>\n",
              "      <td>0.729343</td>\n",
              "      <td>3.066079</td>\n",
              "      <td>0.864696</td>\n",
              "    </tr>\n",
              "    <tr>\n",
              "      <th>min</th>\n",
              "      <td>19.000000</td>\n",
              "      <td>0.000000</td>\n",
              "      <td>-4057.000000</td>\n",
              "      <td>0.000000</td>\n",
              "      <td>0.000000</td>\n",
              "      <td>1.000000</td>\n",
              "      <td>0.000000</td>\n",
              "      <td>1.000000</td>\n",
              "      <td>0.000000</td>\n",
              "      <td>0.000000</td>\n",
              "      <td>0.000000</td>\n",
              "      <td>0.000000</td>\n",
              "      <td>0.000000</td>\n",
              "      <td>0.000000</td>\n",
              "    </tr>\n",
              "    <tr>\n",
              "      <th>25%</th>\n",
              "      <td>32.000000</td>\n",
              "      <td>0.000000</td>\n",
              "      <td>90.000000</td>\n",
              "      <td>0.000000</td>\n",
              "      <td>0.000000</td>\n",
              "      <td>8.000000</td>\n",
              "      <td>148.000000</td>\n",
              "      <td>1.000000</td>\n",
              "      <td>0.000000</td>\n",
              "      <td>1.000000</td>\n",
              "      <td>1.000000</td>\n",
              "      <td>1.000000</td>\n",
              "      <td>3.000000</td>\n",
              "      <td>0.000000</td>\n",
              "    </tr>\n",
              "    <tr>\n",
              "      <th>50%</th>\n",
              "      <td>38.000000</td>\n",
              "      <td>0.000000</td>\n",
              "      <td>503.000000</td>\n",
              "      <td>1.000000</td>\n",
              "      <td>0.000000</td>\n",
              "      <td>16.000000</td>\n",
              "      <td>317.000000</td>\n",
              "      <td>2.000000</td>\n",
              "      <td>0.500000</td>\n",
              "      <td>4.000000</td>\n",
              "      <td>1.000000</td>\n",
              "      <td>1.000000</td>\n",
              "      <td>6.000000</td>\n",
              "      <td>0.000000</td>\n",
              "    </tr>\n",
              "    <tr>\n",
              "      <th>75%</th>\n",
              "      <td>48.000000</td>\n",
              "      <td>0.000000</td>\n",
              "      <td>1560.250000</td>\n",
              "      <td>1.000000</td>\n",
              "      <td>0.000000</td>\n",
              "      <td>22.000000</td>\n",
              "      <td>663.000000</td>\n",
              "      <td>3.000000</td>\n",
              "      <td>1.000000</td>\n",
              "      <td>7.000000</td>\n",
              "      <td>2.000000</td>\n",
              "      <td>2.000000</td>\n",
              "      <td>8.000000</td>\n",
              "      <td>2.000000</td>\n",
              "    </tr>\n",
              "    <tr>\n",
              "      <th>max</th>\n",
              "      <td>95.000000</td>\n",
              "      <td>1.000000</td>\n",
              "      <td>66721.000000</td>\n",
              "      <td>1.000000</td>\n",
              "      <td>1.000000</td>\n",
              "      <td>31.000000</td>\n",
              "      <td>3881.000000</td>\n",
              "      <td>37.000000</td>\n",
              "      <td>1.000000</td>\n",
              "      <td>11.000000</td>\n",
              "      <td>2.000000</td>\n",
              "      <td>3.000000</td>\n",
              "      <td>10.000000</td>\n",
              "      <td>2.000000</td>\n",
              "    </tr>\n",
              "  </tbody>\n",
              "</table>\n",
              "</div>"
            ],
            "text/plain": [
              "               age      default  ...    month_cat  contact_cat\n",
              "count  5792.000000  5792.000000  ...  5792.000000  5792.000000\n",
              "mean     40.263812     0.021754  ...     5.256388     0.558874\n",
              "std      10.278213     0.145892  ...     3.066079     0.864696\n",
              "min      19.000000     0.000000  ...     0.000000     0.000000\n",
              "25%      32.000000     0.000000  ...     3.000000     0.000000\n",
              "50%      38.000000     0.000000  ...     6.000000     0.000000\n",
              "75%      48.000000     0.000000  ...     8.000000     2.000000\n",
              "max      95.000000     1.000000  ...    10.000000     2.000000\n",
              "\n",
              "[8 rows x 14 columns]"
            ]
          },
          "metadata": {
            "tags": []
          },
          "execution_count": 15
        }
      ]
    },
    {
      "cell_type": "code",
      "metadata": {
        "id": "Q0hdPuBNqsqm",
        "colab_type": "code",
        "colab": {
          "base_uri": "https://localhost:8080/",
          "height": 404
        },
        "outputId": "f422676c-fd86-413e-c2f3-559ef8b471be"
      },
      "source": [
        "# split dataset into training, validation, and test sets\n",
        "X = df_under.drop('y', axis=1)\n",
        "y = df_under['y']\n",
        "\n",
        "# assign a validation set and save for model validation at the end after model selection\n",
        "X_train_under, X_test_under, y_train_under, y_test_under = train_test_split(X, y, test_size=.1, random_state=random_state)\n",
        "\n",
        "X_train_under, X_val_under, y_train_under, y_val_under = train_test_split(X_train_under, y_train_under, test_size=.1, random_state=random_state)\n",
        "\n",
        "# # stratify remaining data into train and test sets\n",
        "# # stratifying data ensures that the datasets are balanced as possible\n",
        "# sss = StratifiedShuffleSplit(n_splits=1, test_size=.1, random_state=random_state)\n",
        "\n",
        "# for train_index, test_index in sss.split(X_train, y_train):\n",
        "#   X_train, X_val = X.loc[train_index], X.loc[test_index]\n",
        "#   y_train, y_val = y.loc[train_index], y.loc[test_index]\n",
        "\n",
        "print(\"{} samples in training set\".format(len(X_train_under)))\n",
        "print(\"{} samples in test set\".format(len(X_test_under)))\n",
        "print(\"{} samples in validation set\".format(len(X_val_under)))\n",
        "\n",
        "train_unique_under, train_class_counts_under = np.unique(y_train_under, return_counts=True)\n",
        "test_unique_under, test_class_counts_under = np.unique(y_test_under, return_counts=True)\n",
        "val_unique_under, val_class_counts_under = np.unique(y_val_under, return_counts=True)\n",
        "\n",
        "fig, (ax1, ax2, ax3) = plt.subplots(1,3, figsize=(20,5))\n",
        "\n",
        "# display train class distribution\n",
        "ax1.bar(train_unique_under, train_class_counts_under, width)\n",
        "ax1.set_xticks(np.arange(2))\n",
        "ax1.set_xticklabels(classes)\n",
        "ax1.set_title('Train Class Distributions')\n",
        "\n",
        "# display val class distribution\n",
        "ax2.bar(test_unique_under, test_class_counts_under, width)\n",
        "ax2.set_xticks(np.arange(2))\n",
        "ax2.set_xticklabels(classes)\n",
        "ax2.set_title('Val Class Distributions')\n",
        "\n",
        "# display test class distribution\n",
        "ax3.bar(val_unique_under, val_class_counts_under, width)\n",
        "ax3.set_xticks(np.arange(2))\n",
        "ax3.set_xticklabels(classes)\n",
        "ax3.set_title('Test Class Distributions')"
      ],
      "execution_count": null,
      "outputs": [
        {
          "output_type": "stream",
          "text": [
            "4690 samples in training set\n",
            "580 samples in test set\n",
            "522 samples in validation set\n"
          ],
          "name": "stdout"
        },
        {
          "output_type": "execute_result",
          "data": {
            "text/plain": [
              "Text(0.5, 1.0, 'Test Class Distributions')"
            ]
          },
          "metadata": {
            "tags": []
          },
          "execution_count": 16
        },
        {
          "output_type": "display_data",
          "data": {
            "image/png": "[encoded data removed]",
            "text/plain": [
              "<Figure size 1440x360 with 3 Axes>"
            ]
          },
          "metadata": {
            "tags": [],
            "needs_background": "light"
          }
        }
      ]
    },
    {
      "cell_type": "markdown",
      "metadata": {
        "id": "gVYIoIz0vmbq",
        "colab_type": "text"
      },
      "source": [
        "### Oversampling the Data\n",
        "\n",
        "Oversampling works the opposite from undersampling. With this method we take the class with the higher amount of samples, then continually randomly sample the class with the lower amount of samples until it reaches a 1:1 ratio. \n",
        "\n",
        "The caveat with this method is we may end up with models that are overfitted to the data."
      ]
    },
    {
      "cell_type": "code",
      "metadata": {
        "colab_type": "code",
        "id": "Y--hBhLuvs_1",
        "colab": {
          "base_uri": "https://localhost:8080/",
          "height": 312
        },
        "outputId": "da5d6aca-1ba3-4374-866b-b8f76b90d67b"
      },
      "source": [
        "# class counts\n",
        "no_class_count, yes_class_count = working_df['y'].value_counts()\n",
        "print(yes_class_count)\n",
        "\n",
        "\n",
        "df_class_yes_over = working_df[working_df['y'] == 1].sample(no_class_count, replace=True)\n",
        "\n",
        "df_over = pd.concat([df_class_yes_over, working_df[working_df['y'] == 0]], axis=0)\n",
        "\n",
        "df_over['y'].value_counts().plot(kind='bar', title='OverSampled Class Distribution')"
      ],
      "execution_count": null,
      "outputs": [
        {
          "output_type": "stream",
          "text": [
            "2896\n"
          ],
          "name": "stdout"
        },
        {
          "output_type": "execute_result",
          "data": {
            "text/plain": [
              "<matplotlib.axes._subplots.AxesSubplot at 0x7efcb7d287b8>"
            ]
          },
          "metadata": {
            "tags": []
          },
          "execution_count": 17
        },
        {
          "output_type": "display_data",
          "data": {
            "image/png": "[encoded data removed]",
            "text/plain": [
              "<Figure size 432x288 with 1 Axes>"
            ]
          },
          "metadata": {
            "tags": [],
            "needs_background": "light"
          }
        }
      ]
    },
    {
      "cell_type": "code",
      "metadata": {
        "colab_type": "code",
        "id": "oWLdIhI2vs_4",
        "colab": {
          "base_uri": "https://localhost:8080/",
          "height": 297
        },
        "outputId": "ffda6334-2a4a-4e39-ba38-3020aa85bbcf"
      },
      "source": [
        "df_over.describe()"
      ],
      "execution_count": null,
      "outputs": [
        {
          "output_type": "execute_result",
          "data": {
            "text/html": [
              "<div>\n",
              "<style scoped>\n",
              "    .dataframe tbody tr th:only-of-type {\n",
              "        vertical-align: middle;\n",
              "    }\n",
              "\n",
              "    .dataframe tbody tr th {\n",
              "        vertical-align: top;\n",
              "    }\n",
              "\n",
              "    .dataframe thead th {\n",
              "        text-align: right;\n",
              "    }\n",
              "</style>\n",
              "<table border=\"1\" class=\"dataframe\">\n",
              "  <thead>\n",
              "    <tr style=\"text-align: right;\">\n",
              "      <th></th>\n",
              "      <th>age</th>\n",
              "      <th>default</th>\n",
              "      <th>balance</th>\n",
              "      <th>housing</th>\n",
              "      <th>loan</th>\n",
              "      <th>day</th>\n",
              "      <th>duration</th>\n",
              "      <th>campaign</th>\n",
              "      <th>y</th>\n",
              "      <th>job_cat</th>\n",
              "      <th>marital_cat</th>\n",
              "      <th>education_cat</th>\n",
              "      <th>month_cat</th>\n",
              "      <th>contact_cat</th>\n",
              "    </tr>\n",
              "  </thead>\n",
              "  <tbody>\n",
              "    <tr>\n",
              "      <th>count</th>\n",
              "      <td>74208.000000</td>\n",
              "      <td>74208.000000</td>\n",
              "      <td>74208.000000</td>\n",
              "      <td>74208.000000</td>\n",
              "      <td>74208.000000</td>\n",
              "      <td>74208.000000</td>\n",
              "      <td>74208.000000</td>\n",
              "      <td>74208.000000</td>\n",
              "      <td>74208.000000</td>\n",
              "      <td>74208.000000</td>\n",
              "      <td>74208.000000</td>\n",
              "      <td>74208.000000</td>\n",
              "      <td>74208.000000</td>\n",
              "      <td>74208.000000</td>\n",
              "    </tr>\n",
              "    <tr>\n",
              "      <th>mean</th>\n",
              "      <td>40.220273</td>\n",
              "      <td>0.018583</td>\n",
              "      <td>1406.119259</td>\n",
              "      <td>0.557245</td>\n",
              "      <td>0.154646</td>\n",
              "      <td>15.935357</td>\n",
              "      <td>453.989449</td>\n",
              "      <td>2.673553</td>\n",
              "      <td>0.500000</td>\n",
              "      <td>4.354692</td>\n",
              "      <td>1.183053</td>\n",
              "      <td>1.247359</td>\n",
              "      <td>5.305034</td>\n",
              "      <td>0.561435</td>\n",
              "    </tr>\n",
              "    <tr>\n",
              "      <th>std</th>\n",
              "      <td>10.300530</td>\n",
              "      <td>0.135047</td>\n",
              "      <td>2879.962988</td>\n",
              "      <td>0.496716</td>\n",
              "      <td>0.361570</td>\n",
              "      <td>8.423558</td>\n",
              "      <td>411.608459</td>\n",
              "      <td>2.874662</td>\n",
              "      <td>0.500003</td>\n",
              "      <td>3.282941</td>\n",
              "      <td>0.635099</td>\n",
              "      <td>0.733394</td>\n",
              "      <td>3.048985</td>\n",
              "      <td>0.865984</td>\n",
              "    </tr>\n",
              "    <tr>\n",
              "      <th>min</th>\n",
              "      <td>19.000000</td>\n",
              "      <td>0.000000</td>\n",
              "      <td>-8019.000000</td>\n",
              "      <td>0.000000</td>\n",
              "      <td>0.000000</td>\n",
              "      <td>1.000000</td>\n",
              "      <td>0.000000</td>\n",
              "      <td>1.000000</td>\n",
              "      <td>0.000000</td>\n",
              "      <td>0.000000</td>\n",
              "      <td>0.000000</td>\n",
              "      <td>0.000000</td>\n",
              "      <td>0.000000</td>\n",
              "      <td>0.000000</td>\n",
              "    </tr>\n",
              "    <tr>\n",
              "      <th>25%</th>\n",
              "      <td>32.000000</td>\n",
              "      <td>0.000000</td>\n",
              "      <td>91.000000</td>\n",
              "      <td>0.000000</td>\n",
              "      <td>0.000000</td>\n",
              "      <td>8.000000</td>\n",
              "      <td>147.000000</td>\n",
              "      <td>1.000000</td>\n",
              "      <td>0.000000</td>\n",
              "      <td>1.000000</td>\n",
              "      <td>1.000000</td>\n",
              "      <td>1.000000</td>\n",
              "      <td>3.000000</td>\n",
              "      <td>0.000000</td>\n",
              "    </tr>\n",
              "    <tr>\n",
              "      <th>50%</th>\n",
              "      <td>38.000000</td>\n",
              "      <td>0.000000</td>\n",
              "      <td>493.000000</td>\n",
              "      <td>1.000000</td>\n",
              "      <td>0.000000</td>\n",
              "      <td>16.000000</td>\n",
              "      <td>312.000000</td>\n",
              "      <td>2.000000</td>\n",
              "      <td>0.500000</td>\n",
              "      <td>4.000000</td>\n",
              "      <td>1.000000</td>\n",
              "      <td>1.000000</td>\n",
              "      <td>6.000000</td>\n",
              "      <td>0.000000</td>\n",
              "    </tr>\n",
              "    <tr>\n",
              "      <th>75%</th>\n",
              "      <td>47.000000</td>\n",
              "      <td>0.000000</td>\n",
              "      <td>1544.000000</td>\n",
              "      <td>1.000000</td>\n",
              "      <td>0.000000</td>\n",
              "      <td>22.000000</td>\n",
              "      <td>664.000000</td>\n",
              "      <td>3.000000</td>\n",
              "      <td>1.000000</td>\n",
              "      <td>7.000000</td>\n",
              "      <td>2.000000</td>\n",
              "      <td>2.000000</td>\n",
              "      <td>8.000000</td>\n",
              "      <td>2.000000</td>\n",
              "    </tr>\n",
              "    <tr>\n",
              "      <th>max</th>\n",
              "      <td>95.000000</td>\n",
              "      <td>1.000000</td>\n",
              "      <td>102127.000000</td>\n",
              "      <td>1.000000</td>\n",
              "      <td>1.000000</td>\n",
              "      <td>31.000000</td>\n",
              "      <td>4918.000000</td>\n",
              "      <td>63.000000</td>\n",
              "      <td>1.000000</td>\n",
              "      <td>11.000000</td>\n",
              "      <td>2.000000</td>\n",
              "      <td>3.000000</td>\n",
              "      <td>10.000000</td>\n",
              "      <td>2.000000</td>\n",
              "    </tr>\n",
              "  </tbody>\n",
              "</table>\n",
              "</div>"
            ],
            "text/plain": [
              "                age       default  ...     month_cat   contact_cat\n",
              "count  74208.000000  74208.000000  ...  74208.000000  74208.000000\n",
              "mean      40.220273      0.018583  ...      5.305034      0.561435\n",
              "std       10.300530      0.135047  ...      3.048985      0.865984\n",
              "min       19.000000      0.000000  ...      0.000000      0.000000\n",
              "25%       32.000000      0.000000  ...      3.000000      0.000000\n",
              "50%       38.000000      0.000000  ...      6.000000      0.000000\n",
              "75%       47.000000      0.000000  ...      8.000000      2.000000\n",
              "max       95.000000      1.000000  ...     10.000000      2.000000\n",
              "\n",
              "[8 rows x 14 columns]"
            ]
          },
          "metadata": {
            "tags": []
          },
          "execution_count": 18
        }
      ]
    },
    {
      "cell_type": "code",
      "metadata": {
        "colab_type": "code",
        "id": "433RJl1Mvs_6",
        "colab": {
          "base_uri": "https://localhost:8080/",
          "height": 404
        },
        "outputId": "54ea0d35-ff50-49d6-bd56-755022656d53"
      },
      "source": [
        "# split dataset into training, validation, and test sets\n",
        "X = df_over.drop('y', axis=1)\n",
        "y = df_over['y']\n",
        "\n",
        "# assign a validation set and save for model validation at the end after model selection\n",
        "X_train_over, X_test_over, y_train_over, y_test_over = train_test_split(X, y, test_size=.1, random_state=random_state)\n",
        "\n",
        "X_train_over, X_val_over, y_train_over, y_val_over = train_test_split(X_train_over, y_train_over, test_size=.1, random_state=random_state)\n",
        "\n",
        "# # stratify remaining data into train and test sets\n",
        "# # stratifying data ensures that the datasets are balanced as possible\n",
        "# sss = StratifiedShuffleSplit(n_splits=1, test_size=.1, random_state=random_state)\n",
        "\n",
        "# for train_index, test_index in sss.split(X_train, y_train):\n",
        "#   X_train, X_val = X.loc[train_index], X.loc[test_index]\n",
        "#   y_train, y_val = y.loc[train_index], y.loc[test_index]\n",
        "\n",
        "print(\"{} samples in training set\".format(len(X_train_over)))\n",
        "print(\"{} samples in test set\".format(len(X_test_over)))\n",
        "print(\"{} samples in validation set\".format(len(X_val_over)))\n",
        "\n",
        "train_unique_over, train_class_counts_over = np.unique(y_train_over, return_counts=True)\n",
        "test_unique_over, test_class_counts_over = np.unique(y_test_over, return_counts=True)\n",
        "val_unique_over, val_class_counts_over = np.unique(y_val_over, return_counts=True)\n",
        "\n",
        "fig, (ax1, ax2, ax3) = plt.subplots(1,3, figsize=(20,5))\n",
        "\n",
        "# display train class distribution\n",
        "ax1.bar(train_unique_over, train_class_counts_over, width)\n",
        "ax1.set_xticks(np.arange(2))\n",
        "ax1.set_xticklabels(classes)\n",
        "ax1.set_title('Train Class Distributions')\n",
        "\n",
        "# display val class distribution\n",
        "ax2.bar(test_unique_over, test_class_counts_over, width)\n",
        "ax2.set_xticks(np.arange(2))\n",
        "ax2.set_xticklabels(classes)\n",
        "ax2.set_title('Val Class Distributions')\n",
        "\n",
        "# display test class distribution\n",
        "ax3.bar(val_unique_over, val_class_counts_over, width)\n",
        "ax3.set_xticks(np.arange(2))\n",
        "ax3.set_xticklabels(classes)\n",
        "ax3.set_title('Test Class Distributions')"
      ],
      "execution_count": null,
      "outputs": [
        {
          "output_type": "stream",
          "text": [
            "60108 samples in training set\n",
            "7421 samples in test set\n",
            "6679 samples in validation set\n"
          ],
          "name": "stdout"
        },
        {
          "output_type": "execute_result",
          "data": {
            "text/plain": [
              "Text(0.5, 1.0, 'Test Class Distributions')"
            ]
          },
          "metadata": {
            "tags": []
          },
          "execution_count": 19
        },
        {
          "output_type": "display_data",
          "data": {
            "image/png": "[encoded data removed]",
            "text/plain": [
              "<Figure size 1440x360 with 3 Axes>"
            ]
          },
          "metadata": {
            "tags": [],
            "needs_background": "light"
          }
        }
      ]
    },
    {
      "cell_type": "markdown",
      "metadata": {
        "id": "rHpHdls0DKxy",
        "colab_type": "text"
      },
      "source": [
        "# Model Fitting and Selection\n"
      ]
    },
    {
      "cell_type": "markdown",
      "metadata": {
        "id": "UAuTGobO8Zeh",
        "colab_type": "text"
      },
      "source": [
        "First we set up a helper function to allow for grid search of hyperparameters on whatever classifier we throw in.\n",
        "\n",
        "Using the Holdout grid search methodology, we are able to many different combinations of hyperparameters on our models, while saving the best performing one for further validation using our validation set.\n",
        "\n",
        "For evaluation we are using F1-scores as shown by the equation below:\n",
        "\n",
        "![Equation for calculating F1 Score, Precision, and Recall.](https://miro.medium.com/max/534/1*EXa-_699fntpUoRjZeqAFQ.jpeg)\n",
        "\n",
        "Two metrics used to calculate F1 scores are precision and recall. \n",
        "\n",
        "As shown above, precision is calcuated by taking the total amount of true positives, items classified correctly, divided by sum of the total amount of true positives and false positives, or items that were incorrectly labeled positive or in this case happy.\n",
        "\n",
        "Recall is calculated by taking the total number of true positives divided by the sum of the total amount of true positives and False Negatives, in this case customers that were misclassified as being unhappy.\n"
      ]
    },
    {
      "cell_type": "code",
      "metadata": {
        "id": "NfcUJ0-UBjU9",
        "colab_type": "code",
        "colab": {}
      },
      "source": [
        "def holdout_grid_search(clf, X_train, y_train, X_test, y_test, hyperparams, fixed_hyperparams={}, verbose=True):\n",
        "    '''\n",
        "    Conduct hyperparameter grid search on hold out validation set. Use holdout validation.\n",
        "    Hyperparameters are input as a dictionary mapping each hyperparameter name to the\n",
        "    range of values they should iterate over. Use the cindex function as your evaluation\n",
        "    function.\n",
        "\n",
        "    Input:\n",
        "        clf: sklearn classifier\n",
        "        X_train_hp (dataframe): dataframe for training set input variables\n",
        "        y_train_hp (dataframe): dataframe for training set targets\n",
        "        X_val_hp (dataframe): dataframe for validation set input variables\n",
        "        y_val_hp (dataframe): dataframe for validation set targets\n",
        "        hyperparams (dict): hyperparameter dictionary mapping hyperparameter\n",
        "                            names to range of values for grid search\n",
        "        fixed_hyperparams (dict): dictionary of fixed hyperparameters that\n",
        "                                  are not included in the grid search\n",
        "\n",
        "    Output:\n",
        "        best_estimator (sklearn classifier): fitted sklearn classifier with best performance on\n",
        "                                             validation set\n",
        "        best_hyperparams (dict): hyperparameter dictionary mapping hyperparameter\n",
        "                                 names to values in best_estimator\n",
        "    '''\n",
        "    \n",
        "    best_estimator = None\n",
        "    best_hyperparams = {}\n",
        "    \n",
        "    # hold best running score\n",
        "    best_score = 0.0\n",
        "\n",
        "    # get list of param values\n",
        "    lists = hyperparams.values()\n",
        "    \n",
        "    # get all param combinations\n",
        "    param_combinations = list(itertools.product(*lists))\n",
        "    total_param_combinations = len(param_combinations)\n",
        "\n",
        "\n",
        "    # iterate through param combinations\n",
        "    for i, params in enumerate(param_combinations, 1):\n",
        "\n",
        "        # fill param dict with params\n",
        "        param_dict = {}\n",
        "        for param_index, param_name in enumerate(hyperparams):\n",
        "            param_dict[param_name] = params[param_index]\n",
        "            \n",
        "        # create estimator with specified params\n",
        "        estimator = clf(**param_dict, **fixed_hyperparams)\n",
        "\n",
        "        # fit estimator\n",
        "        estimator.fit(X_train, y_train)\n",
        "        \n",
        "        # score the test set\n",
        "        y_preds = estimator.predict(X_test)\n",
        "        f_score = f1_score(y_test, y_preds)\n",
        "\n",
        "\n",
        "        # if new high score, update high score, best estimator\n",
        "        # and best params \n",
        "        if f_score >= best_score:\n",
        "                if (verbose):\n",
        "                  print(f'New Best Score: {f_score}\\n')\n",
        "                  print(\"{}\\n\".format(param_dict))\n",
        "                best_score = f_score\n",
        "                best_estimator = estimator\n",
        "                best_hyperparams = param_dict\n",
        "\n",
        "    # add fixed hyperparamters to best combination of variable hyperparameters\n",
        "    best_hyperparams.update(fixed_hyperparams)\n",
        "    \n",
        "    return best_estimator, best_hyperparams"
      ],
      "execution_count": null,
      "outputs": []
    },
    {
      "cell_type": "markdown",
      "metadata": {
        "id": "yARszIIu8jZl",
        "colab_type": "text"
      },
      "source": [
        "## Logistic Regression Classifier\n",
        "\n",
        "First we will try using a simple logistic regression classifier to find a baseline level model.\n",
        "\n",
        "Logistic regression is commonly used as a binary classification algorithm, but can be expanded for multiple classes. \n",
        "\n",
        "What is important here is the algorithm will provide a probability on which class the item belong's to, or in this case whether or not a customer is happy. After calculating the probabilities, the model returns the class with the higher probability score."
      ]
    },
    {
      "cell_type": "code",
      "metadata": {
        "id": "-xupRIVGWSwc",
        "colab_type": "code",
        "colab": {}
      },
      "source": [
        "def logistic_regression_grid_search(X_train, y_train, X_test, y_test, verbose=True):\n",
        "\n",
        "    hyperparams = {\n",
        "        # Inverse Regularization Strength\n",
        "        'C': [0.001, 0.01, 0.1, 1.0, 10.0],\n",
        "\n",
        "        # determine class weights for classifier, default is None\n",
        "        # balanced automatically adjusts weights\n",
        "        'class_weight': [None, 'balanced'],\n",
        "\n",
        "        'solver': ['liblinear'],\n",
        "\n",
        "        # max iterations for solver to converge\n",
        "        'max_iter': [100, 150, 200]\n",
        "    }\n",
        "\n",
        "    \n",
        "    fixed_hyperparams = {\n",
        "        'random_state': 42,\n",
        "    }\n",
        "    \n",
        "    logr = LogisticRegression\n",
        "\n",
        "    best_logr, best_hyperparams = holdout_grid_search(logr, X_train, y_train,\n",
        "                                                    X_test, y_test, hyperparams,\n",
        "                                                    fixed_hyperparams, verbose)\n",
        "\n",
        "    print(f\"Best hyperparameters:\\n{best_hyperparams}\")\n",
        "\n",
        "    # score the train and test sets\n",
        "    y_train_preds = best_logr.predict(X_train)\n",
        "    f_score_train_best = f1_score(y_train, y_train_preds)\n",
        "    print(f\"Train Score: {f_score_train_best}\")\n",
        "\n",
        "    y_test_preds = best_logr.predict(X_test)\n",
        "    f_score_test_best = f1_score(y_test, y_test_preds)\n",
        "    print(f\"Test Score: {f_score_test_best}\")\n",
        "    \n",
        "    # add fixed hyperparamters to best combination of variable hyperparameters\n",
        "    best_hyperparams.update(fixed_hyperparams)\n",
        "    \n",
        "    return best_logr, best_hyperparams, f_score_test_best"
      ],
      "execution_count": null,
      "outputs": []
    },
    {
      "cell_type": "code",
      "metadata": {
        "id": "xVgZlthQXuhR",
        "colab_type": "code",
        "colab": {
          "base_uri": "https://localhost:8080/",
          "height": 1000
        },
        "outputId": "3e1d5e54-c5ba-4f61-a994-d4f9d7b4685d"
      },
      "source": [
        "best_logr_under, best_hyperparams, best_logr_score_under = logistic_regression_grid_search(X_train_under, y_train_under, X_val_under, y_val_under)"
      ],
      "execution_count": null,
      "outputs": [
        {
          "output_type": "stream",
          "text": [
            "New Best Score: 0.805668016194332\n",
            "\n",
            "{'C': 0.001, 'class_weight': None, 'solver': 'liblinear', 'max_iter': 100}\n",
            "\n",
            "New Best Score: 0.805668016194332\n",
            "\n",
            "{'C': 0.001, 'class_weight': None, 'solver': 'liblinear', 'max_iter': 150}\n",
            "\n",
            "New Best Score: 0.805668016194332\n",
            "\n",
            "{'C': 0.001, 'class_weight': None, 'solver': 'liblinear', 'max_iter': 200}\n",
            "\n",
            "New Best Score: 0.8178137651821863\n",
            "\n",
            "{'C': 0.01, 'class_weight': None, 'solver': 'liblinear', 'max_iter': 100}\n",
            "\n",
            "New Best Score: 0.8178137651821863\n",
            "\n",
            "{'C': 0.01, 'class_weight': None, 'solver': 'liblinear', 'max_iter': 150}\n",
            "\n",
            "New Best Score: 0.8178137651821863\n",
            "\n",
            "{'C': 0.01, 'class_weight': None, 'solver': 'liblinear', 'max_iter': 200}\n",
            "\n",
            "New Best Score: 0.8225806451612903\n",
            "\n",
            "{'C': 0.1, 'class_weight': None, 'solver': 'liblinear', 'max_iter': 100}\n",
            "\n",
            "New Best Score: 0.8225806451612903\n",
            "\n",
            "{'C': 0.1, 'class_weight': None, 'solver': 'liblinear', 'max_iter': 150}\n",
            "\n",
            "New Best Score: 0.8225806451612903\n",
            "\n",
            "{'C': 0.1, 'class_weight': None, 'solver': 'liblinear', 'max_iter': 200}\n",
            "\n",
            "New Best Score: 0.823529411764706\n",
            "\n",
            "{'C': 0.1, 'class_weight': 'balanced', 'solver': 'liblinear', 'max_iter': 100}\n",
            "\n",
            "New Best Score: 0.823529411764706\n",
            "\n",
            "{'C': 0.1, 'class_weight': 'balanced', 'solver': 'liblinear', 'max_iter': 150}\n",
            "\n",
            "New Best Score: 0.823529411764706\n",
            "\n",
            "{'C': 0.1, 'class_weight': 'balanced', 'solver': 'liblinear', 'max_iter': 200}\n",
            "\n",
            "New Best Score: 0.825910931174089\n",
            "\n",
            "{'C': 1.0, 'class_weight': 'balanced', 'solver': 'liblinear', 'max_iter': 100}\n",
            "\n",
            "New Best Score: 0.825910931174089\n",
            "\n",
            "{'C': 1.0, 'class_weight': 'balanced', 'solver': 'liblinear', 'max_iter': 150}\n",
            "\n",
            "New Best Score: 0.825910931174089\n",
            "\n",
            "{'C': 1.0, 'class_weight': 'balanced', 'solver': 'liblinear', 'max_iter': 200}\n",
            "\n",
            "New Best Score: 0.8275862068965518\n",
            "\n",
            "{'C': 10.0, 'class_weight': None, 'solver': 'liblinear', 'max_iter': 100}\n",
            "\n",
            "New Best Score: 0.8275862068965518\n",
            "\n",
            "{'C': 10.0, 'class_weight': None, 'solver': 'liblinear', 'max_iter': 150}\n",
            "\n",
            "New Best Score: 0.8275862068965518\n",
            "\n",
            "{'C': 10.0, 'class_weight': None, 'solver': 'liblinear', 'max_iter': 200}\n",
            "\n",
            "Best hyperparameters:\n",
            "{'C': 10.0, 'class_weight': None, 'solver': 'liblinear', 'max_iter': 200, 'random_state': 42}\n",
            "Train Score: 0.7914912475072015\n",
            "Test Score: 0.8275862068965518\n"
          ],
          "name": "stdout"
        }
      ]
    },
    {
      "cell_type": "code",
      "metadata": {
        "id": "RmSawI_DxuEz",
        "colab_type": "code",
        "colab": {
          "base_uri": "https://localhost:8080/",
          "height": 1000
        },
        "outputId": "1356b2a7-600d-4999-f572-88489f37b4c7"
      },
      "source": [
        "best_logr_over, best_hyperparams, best_logr_score_over = logistic_regression_grid_search(X_train_over, y_train_over, X_val_over, y_val_over)\n"
      ],
      "execution_count": null,
      "outputs": [
        {
          "output_type": "stream",
          "text": [
            "New Best Score: 0.789599617163822\n",
            "\n",
            "{'C': 0.001, 'class_weight': None, 'solver': 'liblinear', 'max_iter': 100}\n",
            "\n",
            "New Best Score: 0.789599617163822\n",
            "\n",
            "{'C': 0.001, 'class_weight': None, 'solver': 'liblinear', 'max_iter': 150}\n",
            "\n",
            "New Best Score: 0.789599617163822\n",
            "\n",
            "{'C': 0.001, 'class_weight': None, 'solver': 'liblinear', 'max_iter': 200}\n",
            "\n",
            "New Best Score: 0.7925251557259223\n",
            "\n",
            "{'C': 0.01, 'class_weight': None, 'solver': 'liblinear', 'max_iter': 100}\n",
            "\n",
            "New Best Score: 0.7925251557259223\n",
            "\n",
            "{'C': 0.01, 'class_weight': None, 'solver': 'liblinear', 'max_iter': 150}\n",
            "\n",
            "New Best Score: 0.7925251557259223\n",
            "\n",
            "{'C': 0.01, 'class_weight': None, 'solver': 'liblinear', 'max_iter': 200}\n",
            "\n",
            "New Best Score: 0.7926576217079009\n",
            "\n",
            "{'C': 0.01, 'class_weight': 'balanced', 'solver': 'liblinear', 'max_iter': 100}\n",
            "\n",
            "New Best Score: 0.7926576217079009\n",
            "\n",
            "{'C': 0.01, 'class_weight': 'balanced', 'solver': 'liblinear', 'max_iter': 150}\n",
            "\n",
            "New Best Score: 0.7926576217079009\n",
            "\n",
            "{'C': 0.01, 'class_weight': 'balanced', 'solver': 'liblinear', 'max_iter': 200}\n",
            "\n",
            "New Best Score: 0.7938029068838844\n",
            "\n",
            "{'C': 0.1, 'class_weight': None, 'solver': 'liblinear', 'max_iter': 100}\n",
            "\n",
            "New Best Score: 0.7938029068838844\n",
            "\n",
            "{'C': 0.1, 'class_weight': None, 'solver': 'liblinear', 'max_iter': 150}\n",
            "\n",
            "New Best Score: 0.7938029068838844\n",
            "\n",
            "{'C': 0.1, 'class_weight': None, 'solver': 'liblinear', 'max_iter': 200}\n",
            "\n",
            "New Best Score: 0.7940098773299346\n",
            "\n",
            "{'C': 0.1, 'class_weight': 'balanced', 'solver': 'liblinear', 'max_iter': 100}\n",
            "\n",
            "New Best Score: 0.7940098773299346\n",
            "\n",
            "{'C': 0.1, 'class_weight': 'balanced', 'solver': 'liblinear', 'max_iter': 150}\n",
            "\n",
            "New Best Score: 0.7940098773299346\n",
            "\n",
            "{'C': 0.1, 'class_weight': 'balanced', 'solver': 'liblinear', 'max_iter': 200}\n",
            "\n",
            "New Best Score: 0.7940613026819923\n",
            "\n",
            "{'C': 10.0, 'class_weight': None, 'solver': 'liblinear', 'max_iter': 100}\n",
            "\n",
            "New Best Score: 0.7940613026819923\n",
            "\n",
            "{'C': 10.0, 'class_weight': None, 'solver': 'liblinear', 'max_iter': 150}\n",
            "\n",
            "New Best Score: 0.7940613026819923\n",
            "\n",
            "{'C': 10.0, 'class_weight': None, 'solver': 'liblinear', 'max_iter': 200}\n",
            "\n",
            "Best hyperparameters:\n",
            "{'C': 10.0, 'class_weight': None, 'solver': 'liblinear', 'max_iter': 200, 'random_state': 42}\n",
            "Train Score: 0.8050236130572422\n",
            "Test Score: 0.7940613026819923\n"
          ],
          "name": "stdout"
        }
      ]
    },
    {
      "cell_type": "code",
      "metadata": {
        "id": "rX4G-ufqf7Fq",
        "colab_type": "code",
        "colab": {
          "base_uri": "https://localhost:8080/",
          "height": 80
        },
        "outputId": "5d809265-09b2-4a10-f990-ec6cd4673dd2"
      },
      "source": [
        "data = {\n",
        "    'Oversampled F1 Score': best_logr_score_over,\n",
        "    'Undersampled F1 Score': best_logr_score_under\n",
        "}\n",
        "\n",
        "logr_df = pd.DataFrame(data=data, index=[0])\n",
        "\n",
        "logr_df.head()"
      ],
      "execution_count": null,
      "outputs": [
        {
          "output_type": "execute_result",
          "data": {
            "text/html": [
              "<div>\n",
              "<style scoped>\n",
              "    .dataframe tbody tr th:only-of-type {\n",
              "        vertical-align: middle;\n",
              "    }\n",
              "\n",
              "    .dataframe tbody tr th {\n",
              "        vertical-align: top;\n",
              "    }\n",
              "\n",
              "    .dataframe thead th {\n",
              "        text-align: right;\n",
              "    }\n",
              "</style>\n",
              "<table border=\"1\" class=\"dataframe\">\n",
              "  <thead>\n",
              "    <tr style=\"text-align: right;\">\n",
              "      <th></th>\n",
              "      <th>Oversampled F1 Score</th>\n",
              "      <th>Undersampled F1 Score</th>\n",
              "    </tr>\n",
              "  </thead>\n",
              "  <tbody>\n",
              "    <tr>\n",
              "      <th>0</th>\n",
              "      <td>0.794061</td>\n",
              "      <td>0.827586</td>\n",
              "    </tr>\n",
              "  </tbody>\n",
              "</table>\n",
              "</div>"
            ],
            "text/plain": [
              "   Oversampled F1 Score  Undersampled F1 Score\n",
              "0              0.794061               0.827586"
            ]
          },
          "metadata": {
            "tags": []
          },
          "execution_count": 24
        }
      ]
    },
    {
      "cell_type": "markdown",
      "metadata": {
        "id": "17pD5UBh21e-",
        "colab_type": "text"
      },
      "source": [
        "Looks like this algorithm only works slightly better with the undersampled dataset at a F1 score of .83 vs .80."
      ]
    },
    {
      "cell_type": "markdown",
      "metadata": {
        "id": "Si5SHgL1VpC7",
        "colab_type": "text"
      },
      "source": [
        "## K-Nearest Neighbors (KNN)\n",
        "\n",
        "KNN algorithm works by plotting new datapoints next to labeled datapoints. Then it will take the overall class of the closest N datapoints and assign it to the new datapoint."
      ]
    },
    {
      "cell_type": "code",
      "metadata": {
        "colab_type": "code",
        "id": "mw-sq76Sb-AY",
        "colab": {}
      },
      "source": [
        "def KNN_grid_search(X_train, y_train, X_test, y_test, verbose=True):\n",
        "\n",
        "    hyperparams = {\n",
        "        # Number of neighbors used for calculation\n",
        "        'n_neighbors': [2, 3, 4, 5],\n",
        "\n",
        "        # distance parameter, 1 = manahattan, 2 = euclidean\n",
        "        'p': [1, 2]\n",
        "    }\n",
        "\n",
        "    \n",
        "    fixed_hyperparams = {\n",
        "    }\n",
        "    \n",
        "    KNN = KNeighborsClassifier\n",
        "\n",
        "    best_KNN, best_hyperparams = holdout_grid_search(KNN, X_train, y_train,\n",
        "                                                    X_test, y_test, hyperparams,\n",
        "                                                    fixed_hyperparams, verbose)\n",
        "\n",
        "    print(f\"Best hyperparameters:\\n{best_hyperparams}\")\n",
        "\n",
        "    # score the train and test sets\n",
        "    y_train_preds = best_KNN.predict(X_train)\n",
        "    f_score_train_best = f1_score(y_train, y_train_preds)\n",
        "    print(f\"Train Score: {f_score_train_best}\")\n",
        "\n",
        "    y_test_preds = best_KNN.predict(X_test)\n",
        "    f_score_test_best = f1_score(y_test, y_test_preds)\n",
        "    print(f\"Test Score: {f_score_test_best}\")\n",
        "    \n",
        "    # add fixed hyperparamters to best combination of variable hyperparameters\n",
        "    best_hyperparams.update(fixed_hyperparams)\n",
        "    \n",
        "    return best_KNN, best_hyperparams, f_score_test_best"
      ],
      "execution_count": null,
      "outputs": []
    },
    {
      "cell_type": "code",
      "metadata": {
        "id": "LB0cKSK3cSgf",
        "colab_type": "code",
        "colab": {
          "base_uri": "https://localhost:8080/",
          "height": 357
        },
        "outputId": "bfd250ec-8b82-4440-a4bb-90df96112f8c"
      },
      "source": [
        "best_KNN_under, best_hyperparams_under, best_KNN_score_under = KNN_grid_search(X_train_under, y_train_under, X_val_under, y_val_under)"
      ],
      "execution_count": null,
      "outputs": [
        {
          "output_type": "stream",
          "text": [
            "New Best Score: 0.6977777777777778\n",
            "\n",
            "{'n_neighbors': 2, 'p': 1}\n",
            "\n",
            "New Best Score: 0.7082405345211581\n",
            "\n",
            "{'n_neighbors': 2, 'p': 2}\n",
            "\n",
            "New Best Score: 0.7755905511811024\n",
            "\n",
            "{'n_neighbors': 3, 'p': 1}\n",
            "\n",
            "New Best Score: 0.7912524850894632\n",
            "\n",
            "{'n_neighbors': 5, 'p': 1}\n",
            "\n",
            "Best hyperparameters:\n",
            "{'n_neighbors': 5, 'p': 1}\n",
            "Train Score: 0.8330807534098289\n",
            "Test Score: 0.7912524850894632\n"
          ],
          "name": "stdout"
        }
      ]
    },
    {
      "cell_type": "code",
      "metadata": {
        "colab_type": "code",
        "id": "ksVEXCZHx3y9",
        "colab": {
          "base_uri": "https://localhost:8080/",
          "height": 221
        },
        "outputId": "0cdd03bd-a8bf-4e8b-9e25-cf2562a0dcde"
      },
      "source": [
        "best_KNN_over, best_hyperparams_over, best_KNN_score_over = KNN_grid_search(X_train_over, y_train_over, X_val_over, y_val_over)"
      ],
      "execution_count": null,
      "outputs": [
        {
          "output_type": "stream",
          "text": [
            "New Best Score: 0.96941941202541\n",
            "\n",
            "{'n_neighbors': 2, 'p': 1}\n",
            "\n",
            "New Best Score: 0.9715724015398283\n",
            "\n",
            "{'n_neighbors': 2, 'p': 2}\n",
            "\n",
            "Best hyperparameters:\n",
            "{'n_neighbors': 2, 'p': 2}\n",
            "Train Score: 1.0\n",
            "Test Score: 0.9715724015398283\n"
          ],
          "name": "stdout"
        }
      ]
    },
    {
      "cell_type": "code",
      "metadata": {
        "colab_type": "code",
        "id": "nctyc9ckg1Zw",
        "colab": {
          "base_uri": "https://localhost:8080/",
          "height": 80
        },
        "outputId": "d363dcd0-0b04-4204-f9a2-b8705d2d3572"
      },
      "source": [
        "data = {\n",
        "    'Oversampled F1 Score': best_KNN_score_over,\n",
        "    'Undersampled F1 Score': best_KNN_score_under\n",
        "}\n",
        "\n",
        "knn_df = pd.DataFrame(data=data, index=[0])\n",
        "\n",
        "knn_df.head()"
      ],
      "execution_count": null,
      "outputs": [
        {
          "output_type": "execute_result",
          "data": {
            "text/html": [
              "<div>\n",
              "<style scoped>\n",
              "    .dataframe tbody tr th:only-of-type {\n",
              "        vertical-align: middle;\n",
              "    }\n",
              "\n",
              "    .dataframe tbody tr th {\n",
              "        vertical-align: top;\n",
              "    }\n",
              "\n",
              "    .dataframe thead th {\n",
              "        text-align: right;\n",
              "    }\n",
              "</style>\n",
              "<table border=\"1\" class=\"dataframe\">\n",
              "  <thead>\n",
              "    <tr style=\"text-align: right;\">\n",
              "      <th></th>\n",
              "      <th>Oversampled F1 Score</th>\n",
              "      <th>Undersampled F1 Score</th>\n",
              "    </tr>\n",
              "  </thead>\n",
              "  <tbody>\n",
              "    <tr>\n",
              "      <th>0</th>\n",
              "      <td>0.971572</td>\n",
              "      <td>0.791252</td>\n",
              "    </tr>\n",
              "  </tbody>\n",
              "</table>\n",
              "</div>"
            ],
            "text/plain": [
              "   Oversampled F1 Score  Undersampled F1 Score\n",
              "0              0.971572               0.791252"
            ]
          },
          "metadata": {
            "tags": []
          },
          "execution_count": 28
        }
      ]
    },
    {
      "cell_type": "markdown",
      "metadata": {
        "id": "s1SOiB_3c_wL",
        "colab_type": "text"
      },
      "source": [
        "Here it looks like the oversampled KNN model performed amazingly with an F1 score of 1 on the training set, and .97 on the validation set.\n",
        "\n",
        "We will look into this deeper to ensure that this is not the result of overfitting."
      ]
    },
    {
      "cell_type": "markdown",
      "metadata": {
        "id": "fxCM6gPjdP_A",
        "colab_type": "text"
      },
      "source": [
        "## Guassian Naive Bayes\n",
        "\n",
        "Next we will try the Gaussian Naive Bayes algorithm. This implements the Bayes algorithm and assumes that all features are independent of each other. \n",
        "\n",
        "If this proves to be useful, we can re-train the algorithm down the line with partial fit to avoid having to re-train the entire thing."
      ]
    },
    {
      "cell_type": "code",
      "metadata": {
        "id": "mvRwUounf79Q",
        "colab_type": "code",
        "colab": {}
      },
      "source": [
        "def GNB_grid_search(X_train, y_train, X_test, y_test, verbose=True):\n",
        "\n",
        "    hyperparams = {\n",
        "        # Inverse Regularization Strength\n",
        "        'var_smoothing': [1e-9, 1e-7, 1e-5, 1e-3, 1e-1, 1],\n",
        "\n",
        "    }\n",
        "\n",
        "    \n",
        "    fixed_hyperparams = {\n",
        "        \n",
        "    }\n",
        "    \n",
        "    gnb = GaussianNB\n",
        "\n",
        "    best_gnb, best_hyperparams = holdout_grid_search(gnb, X_train, y_train,\n",
        "                                                    X_test, y_test, hyperparams,\n",
        "                                                    fixed_hyperparams, verbose)\n",
        "\n",
        "    print(f\"Best hyperparameters:\\n{best_hyperparams}\")\n",
        "\n",
        "    \n",
        "    # score the train and test sets\n",
        "    y_train_preds = best_gnb.predict(X_train)\n",
        "    f_score_train_best = f1_score(y_train, y_train_preds)\n",
        "    print(f\"Train Score: {f_score_train_best}\")\n",
        "\n",
        "    y_test_preds = best_gnb.predict(X_test)\n",
        "    f_score_test_best = f1_score(y_test, y_test_preds)\n",
        "    print(f\"Test Score: {f_score_test_best}\")\n",
        "    \n",
        "    # add fixed hyperparamters to best combination of variable hyperparameters\n",
        "    best_hyperparams.update(fixed_hyperparams)\n",
        "    \n",
        "    return best_gnb, best_hyperparams, f_score_test_best"
      ],
      "execution_count": null,
      "outputs": []
    },
    {
      "cell_type": "code",
      "metadata": {
        "id": "SiOnYXkcgHdC",
        "colab_type": "code",
        "colab": {
          "base_uri": "https://localhost:8080/",
          "height": 221
        },
        "outputId": "22ee1b97-6851-4775-fb49-4d081135ae87"
      },
      "source": [
        "best_gnb_under, best_hyperparams_under, best_gnb_score_under = GNB_grid_search(X_train_under, y_train_under, X_val_under, y_val_under)"
      ],
      "execution_count": null,
      "outputs": [
        {
          "output_type": "stream",
          "text": [
            "New Best Score: 0.7951807228915662\n",
            "\n",
            "{'var_smoothing': 1e-09}\n",
            "\n",
            "New Best Score: 0.810234541577825\n",
            "\n",
            "{'var_smoothing': 1e-07}\n",
            "\n",
            "Best hyperparameters:\n",
            "{'var_smoothing': 1e-07}\n",
            "Train Score: 0.7723749119097956\n",
            "Test Score: 0.810234541577825\n"
          ],
          "name": "stdout"
        }
      ]
    },
    {
      "cell_type": "code",
      "metadata": {
        "colab_type": "code",
        "id": "UYqZ_Wq9x_yo",
        "colab": {
          "base_uri": "https://localhost:8080/",
          "height": 153
        },
        "outputId": "6e6c350c-1470-45e3-e023-d7478b2a6531"
      },
      "source": [
        "best_gnb_over, best_hyperparams_over, best_svc_score_over = GNB_grid_search(X_train_over, y_train_over, X_val_over, y_val_over)"
      ],
      "execution_count": null,
      "outputs": [
        {
          "output_type": "stream",
          "text": [
            "New Best Score: 0.7887368255466416\n",
            "\n",
            "{'var_smoothing': 1e-09}\n",
            "\n",
            "Best hyperparameters:\n",
            "{'var_smoothing': 1e-09}\n",
            "Train Score: 0.7996926229508198\n",
            "Test Score: 0.7887368255466416\n"
          ],
          "name": "stdout"
        }
      ]
    },
    {
      "cell_type": "code",
      "metadata": {
        "id": "puCevJrshGqU",
        "colab_type": "code",
        "colab": {
          "base_uri": "https://localhost:8080/",
          "height": 80
        },
        "outputId": "30da13ae-6c5f-45c4-c224-6cadb4295adf"
      },
      "source": [
        "data = {\n",
        "    'Oversampled F1 Score': best_svc_score_over,\n",
        "    'Undersampled F1 Score': best_gnb_score_under\n",
        "}\n",
        "\n",
        "gnb_df = pd.DataFrame(data=data, index=[0])\n",
        "\n",
        "gnb_df.head()"
      ],
      "execution_count": null,
      "outputs": [
        {
          "output_type": "execute_result",
          "data": {
            "text/html": [
              "<div>\n",
              "<style scoped>\n",
              "    .dataframe tbody tr th:only-of-type {\n",
              "        vertical-align: middle;\n",
              "    }\n",
              "\n",
              "    .dataframe tbody tr th {\n",
              "        vertical-align: top;\n",
              "    }\n",
              "\n",
              "    .dataframe thead th {\n",
              "        text-align: right;\n",
              "    }\n",
              "</style>\n",
              "<table border=\"1\" class=\"dataframe\">\n",
              "  <thead>\n",
              "    <tr style=\"text-align: right;\">\n",
              "      <th></th>\n",
              "      <th>Oversampled F1 Score</th>\n",
              "      <th>Undersampled F1 Score</th>\n",
              "    </tr>\n",
              "  </thead>\n",
              "  <tbody>\n",
              "    <tr>\n",
              "      <th>0</th>\n",
              "      <td>0.788737</td>\n",
              "      <td>0.810235</td>\n",
              "    </tr>\n",
              "  </tbody>\n",
              "</table>\n",
              "</div>"
            ],
            "text/plain": [
              "   Oversampled F1 Score  Undersampled F1 Score\n",
              "0              0.788737               0.810235"
            ]
          },
          "metadata": {
            "tags": []
          },
          "execution_count": 32
        }
      ]
    },
    {
      "cell_type": "markdown",
      "metadata": {
        "id": "F0x1EWI1hSOD",
        "colab_type": "text"
      },
      "source": [
        "Looks like the oversample and undersampled datasets performed very closely with F1 scores of .79."
      ]
    },
    {
      "cell_type": "markdown",
      "metadata": {
        "id": "EJRx7v8r84Jn",
        "colab_type": "text"
      },
      "source": [
        "## Random Forest Classifier\n",
        "\n",
        "Next we will try a random forest classifier to see if we can get better performance. Random forest classifiers are an esemble method algorithm. They work by fitting a set amount of decision tree's and averaging the result from them. Using the random forest method generally helps improve accuracty and helps manage over-fitting, which is a common issue with using a single decision tree. \n",
        "\n",
        "The reason we are trying this one last is because this algorithm typically uses the most resources due to the robustness of the algorithm. If we can get similar or better performance with a simpler algorithm, it would be a better to use in the long run when the dataset becomes larger.\n"
      ]
    },
    {
      "cell_type": "code",
      "metadata": {
        "id": "vDMTl6BjAECT",
        "colab_type": "code",
        "colab": {}
      },
      "source": [
        "def random_forest_grid_search(X_train, y_train, X_test, y_test, verbose=True):\n",
        "\n",
        "    # Define ranges for the chosen random forest hyperparameters \n",
        "    hyperparams = {\n",
        "        # how many trees should be in the forest (int)\n",
        "        'n_estimators': [2,5,10,25,50],\n",
        "\n",
        "        # the maximum depth of trees in the forest (int)\n",
        "        'max_depth': [1,2,5,8],\n",
        "        \n",
        "        # the minimum number of samples in a leaf as a fraction\n",
        "        'min_samples_leaf': [.5,1,2],\n",
        "\n",
        "        # the minimum number of samples to split an internal node\n",
        "        'min_samples_split': [.5,2,3,4]\n",
        "    }\n",
        "\n",
        "    \n",
        "    fixed_hyperparams = {\n",
        "        'random_state': random_state,\n",
        "    }\n",
        "    \n",
        "    rf = RandomForestClassifier\n",
        "\n",
        "    best_rf, best_hyperparams = holdout_grid_search(rf, X_train, y_train,\n",
        "                                                    X_test, y_test, hyperparams,\n",
        "                                                    fixed_hyperparams, verbose)\n",
        "\n",
        "    print(f\"Best hyperparameters:\\n{best_hyperparams}\")\n",
        "\n",
        "            \n",
        "    # score the train and test sets\n",
        "    y_train_preds = best_rf.predict(X_train)\n",
        "    f_score_train_best = f1_score(y_train, y_train_preds)\n",
        "    print(f\"Train Score: {f_score_train_best}\")\n",
        "\n",
        "    y_test_preds = best_rf.predict(X_test)\n",
        "    f_score_test_best = f1_score(y_test, y_test_preds)\n",
        "    print(f\"Train Score: {f_score_test_best}\")\n",
        "\n",
        "    # add fixed hyperparamters to best combination of variable hyperparameters\n",
        "    best_hyperparams.update(fixed_hyperparams)\n",
        "    \n",
        "    return best_rf, best_hyperparams, f_score_test_best"
      ],
      "execution_count": null,
      "outputs": []
    },
    {
      "cell_type": "code",
      "metadata": {
        "id": "Yd7GHL_uqqZV",
        "colab_type": "code",
        "colab": {
          "base_uri": "https://localhost:8080/",
          "height": 1000
        },
        "outputId": "31ea05d8-c4c2-4a6b-f399-8859c53a48f4"
      },
      "source": [
        "best_rf_under, best_hyperparams_under, best_rf_score_under = random_forest_grid_search(X_train_under, y_train_under, X_val_under, y_val_under)"
      ],
      "execution_count": null,
      "outputs": [
        {
          "output_type": "stream",
          "text": [
            "New Best Score: 0.6734434561626429\n",
            "\n",
            "{'n_estimators': 2, 'max_depth': 1, 'min_samples_leaf': 0.5, 'min_samples_split': 0.5}\n",
            "\n",
            "New Best Score: 0.6734434561626429\n",
            "\n",
            "{'n_estimators': 2, 'max_depth': 1, 'min_samples_leaf': 0.5, 'min_samples_split': 2}\n",
            "\n",
            "New Best Score: 0.6734434561626429\n",
            "\n",
            "{'n_estimators': 2, 'max_depth': 1, 'min_samples_leaf': 0.5, 'min_samples_split': 3}\n",
            "\n",
            "New Best Score: 0.6734434561626429\n",
            "\n",
            "{'n_estimators': 2, 'max_depth': 1, 'min_samples_leaf': 0.5, 'min_samples_split': 4}\n",
            "\n",
            "New Best Score: 0.8066528066528066\n",
            "\n",
            "{'n_estimators': 2, 'max_depth': 1, 'min_samples_leaf': 1, 'min_samples_split': 0.5}\n",
            "\n",
            "New Best Score: 0.8066528066528066\n",
            "\n",
            "{'n_estimators': 2, 'max_depth': 1, 'min_samples_leaf': 1, 'min_samples_split': 2}\n",
            "\n",
            "New Best Score: 0.8066528066528066\n",
            "\n",
            "{'n_estimators': 2, 'max_depth': 1, 'min_samples_leaf': 1, 'min_samples_split': 3}\n",
            "\n",
            "New Best Score: 0.8066528066528066\n",
            "\n",
            "{'n_estimators': 2, 'max_depth': 1, 'min_samples_leaf': 1, 'min_samples_split': 4}\n",
            "\n",
            "New Best Score: 0.8066528066528066\n",
            "\n",
            "{'n_estimators': 2, 'max_depth': 1, 'min_samples_leaf': 2, 'min_samples_split': 0.5}\n",
            "\n",
            "New Best Score: 0.8066528066528066\n",
            "\n",
            "{'n_estimators': 2, 'max_depth': 1, 'min_samples_leaf': 2, 'min_samples_split': 2}\n",
            "\n",
            "New Best Score: 0.8066528066528066\n",
            "\n",
            "{'n_estimators': 2, 'max_depth': 1, 'min_samples_leaf': 2, 'min_samples_split': 3}\n",
            "\n",
            "New Best Score: 0.8066528066528066\n",
            "\n",
            "{'n_estimators': 2, 'max_depth': 1, 'min_samples_leaf': 2, 'min_samples_split': 4}\n",
            "\n",
            "New Best Score: 0.8066528066528066\n",
            "\n",
            "{'n_estimators': 2, 'max_depth': 2, 'min_samples_leaf': 1, 'min_samples_split': 0.5}\n",
            "\n",
            "New Best Score: 0.8294573643410854\n",
            "\n",
            "{'n_estimators': 2, 'max_depth': 2, 'min_samples_leaf': 1, 'min_samples_split': 2}\n",
            "\n",
            "New Best Score: 0.8294573643410854\n",
            "\n",
            "{'n_estimators': 2, 'max_depth': 2, 'min_samples_leaf': 1, 'min_samples_split': 3}\n",
            "\n",
            "New Best Score: 0.8294573643410854\n",
            "\n",
            "{'n_estimators': 2, 'max_depth': 2, 'min_samples_leaf': 1, 'min_samples_split': 4}\n",
            "\n",
            "New Best Score: 0.8294573643410854\n",
            "\n",
            "{'n_estimators': 2, 'max_depth': 2, 'min_samples_leaf': 2, 'min_samples_split': 2}\n",
            "\n",
            "New Best Score: 0.8294573643410854\n",
            "\n",
            "{'n_estimators': 2, 'max_depth': 2, 'min_samples_leaf': 2, 'min_samples_split': 3}\n",
            "\n",
            "New Best Score: 0.8294573643410854\n",
            "\n",
            "{'n_estimators': 2, 'max_depth': 2, 'min_samples_leaf': 2, 'min_samples_split': 4}\n",
            "\n",
            "New Best Score: 0.8429118773946361\n",
            "\n",
            "{'n_estimators': 2, 'max_depth': 5, 'min_samples_leaf': 1, 'min_samples_split': 2}\n",
            "\n",
            "New Best Score: 0.8429118773946361\n",
            "\n",
            "{'n_estimators': 2, 'max_depth': 5, 'min_samples_leaf': 1, 'min_samples_split': 3}\n",
            "\n",
            "New Best Score: 0.8493150684931506\n",
            "\n",
            "{'n_estimators': 2, 'max_depth': 5, 'min_samples_leaf': 1, 'min_samples_split': 4}\n",
            "\n",
            "New Best Score: 0.8493150684931506\n",
            "\n",
            "{'n_estimators': 5, 'max_depth': 5, 'min_samples_leaf': 2, 'min_samples_split': 2}\n",
            "\n",
            "New Best Score: 0.8493150684931506\n",
            "\n",
            "{'n_estimators': 5, 'max_depth': 5, 'min_samples_leaf': 2, 'min_samples_split': 3}\n",
            "\n",
            "New Best Score: 0.8493150684931506\n",
            "\n",
            "{'n_estimators': 5, 'max_depth': 5, 'min_samples_leaf': 2, 'min_samples_split': 4}\n",
            "\n",
            "New Best Score: 0.8627450980392157\n",
            "\n",
            "{'n_estimators': 5, 'max_depth': 8, 'min_samples_leaf': 1, 'min_samples_split': 4}\n",
            "\n",
            "New Best Score: 0.8692307692307693\n",
            "\n",
            "{'n_estimators': 10, 'max_depth': 8, 'min_samples_leaf': 1, 'min_samples_split': 4}\n",
            "\n",
            "New Best Score: 0.8704061895551257\n",
            "\n",
            "{'n_estimators': 50, 'max_depth': 8, 'min_samples_leaf': 1, 'min_samples_split': 2}\n",
            "\n",
            "Best hyperparameters:\n",
            "{'n_estimators': 50, 'max_depth': 8, 'min_samples_leaf': 1, 'min_samples_split': 2, 'random_state': 42}\n",
            "Train Score: 0.8826013513513513\n",
            "Train Score: 0.8704061895551257\n"
          ],
          "name": "stdout"
        }
      ]
    },
    {
      "cell_type": "code",
      "metadata": {
        "colab_type": "code",
        "id": "sdERw2ZayIOl",
        "colab": {
          "base_uri": "https://localhost:8080/",
          "height": 1000
        },
        "outputId": "cba4e398-3297-4b51-a881-6f8a0fa8461d"
      },
      "source": [
        "best_rf_over, best_hyperparams_over, best_rf_score_over = random_forest_grid_search(X_train_over, y_train_over, X_val_over, y_val_over)"
      ],
      "execution_count": null,
      "outputs": [
        {
          "output_type": "stream",
          "text": [
            "New Best Score: 0.6588353413654618\n",
            "\n",
            "{'n_estimators': 2, 'max_depth': 1, 'min_samples_leaf': 0.5, 'min_samples_split': 0.5}\n",
            "\n",
            "New Best Score: 0.6588353413654618\n",
            "\n",
            "{'n_estimators': 2, 'max_depth': 1, 'min_samples_leaf': 0.5, 'min_samples_split': 2}\n",
            "\n",
            "New Best Score: 0.6588353413654618\n",
            "\n",
            "{'n_estimators': 2, 'max_depth': 1, 'min_samples_leaf': 0.5, 'min_samples_split': 3}\n",
            "\n",
            "New Best Score: 0.6588353413654618\n",
            "\n",
            "{'n_estimators': 2, 'max_depth': 1, 'min_samples_leaf': 0.5, 'min_samples_split': 4}\n",
            "\n",
            "New Best Score: 0.777981041077665\n",
            "\n",
            "{'n_estimators': 2, 'max_depth': 1, 'min_samples_leaf': 1, 'min_samples_split': 0.5}\n",
            "\n",
            "New Best Score: 0.777981041077665\n",
            "\n",
            "{'n_estimators': 2, 'max_depth': 1, 'min_samples_leaf': 1, 'min_samples_split': 2}\n",
            "\n",
            "New Best Score: 0.777981041077665\n",
            "\n",
            "{'n_estimators': 2, 'max_depth': 1, 'min_samples_leaf': 1, 'min_samples_split': 3}\n",
            "\n",
            "New Best Score: 0.777981041077665\n",
            "\n",
            "{'n_estimators': 2, 'max_depth': 1, 'min_samples_leaf': 1, 'min_samples_split': 4}\n",
            "\n",
            "New Best Score: 0.777981041077665\n",
            "\n",
            "{'n_estimators': 2, 'max_depth': 1, 'min_samples_leaf': 2, 'min_samples_split': 0.5}\n",
            "\n",
            "New Best Score: 0.777981041077665\n",
            "\n",
            "{'n_estimators': 2, 'max_depth': 1, 'min_samples_leaf': 2, 'min_samples_split': 2}\n",
            "\n",
            "New Best Score: 0.777981041077665\n",
            "\n",
            "{'n_estimators': 2, 'max_depth': 1, 'min_samples_leaf': 2, 'min_samples_split': 3}\n",
            "\n",
            "New Best Score: 0.777981041077665\n",
            "\n",
            "{'n_estimators': 2, 'max_depth': 1, 'min_samples_leaf': 2, 'min_samples_split': 4}\n",
            "\n",
            "New Best Score: 0.777981041077665\n",
            "\n",
            "{'n_estimators': 2, 'max_depth': 2, 'min_samples_leaf': 1, 'min_samples_split': 0.5}\n",
            "\n",
            "New Best Score: 0.8103767757875232\n",
            "\n",
            "{'n_estimators': 2, 'max_depth': 2, 'min_samples_leaf': 1, 'min_samples_split': 2}\n",
            "\n",
            "New Best Score: 0.8103767757875232\n",
            "\n",
            "{'n_estimators': 2, 'max_depth': 2, 'min_samples_leaf': 1, 'min_samples_split': 3}\n",
            "\n",
            "New Best Score: 0.8103767757875232\n",
            "\n",
            "{'n_estimators': 2, 'max_depth': 2, 'min_samples_leaf': 1, 'min_samples_split': 4}\n",
            "\n",
            "New Best Score: 0.8103767757875232\n",
            "\n",
            "{'n_estimators': 2, 'max_depth': 2, 'min_samples_leaf': 2, 'min_samples_split': 2}\n",
            "\n",
            "New Best Score: 0.8103767757875232\n",
            "\n",
            "{'n_estimators': 2, 'max_depth': 2, 'min_samples_leaf': 2, 'min_samples_split': 3}\n",
            "\n",
            "New Best Score: 0.8103767757875232\n",
            "\n",
            "{'n_estimators': 2, 'max_depth': 2, 'min_samples_leaf': 2, 'min_samples_split': 4}\n",
            "\n",
            "New Best Score: 0.8500462820117248\n",
            "\n",
            "{'n_estimators': 2, 'max_depth': 5, 'min_samples_leaf': 1, 'min_samples_split': 2}\n",
            "\n",
            "New Best Score: 0.8500462820117248\n",
            "\n",
            "{'n_estimators': 2, 'max_depth': 5, 'min_samples_leaf': 1, 'min_samples_split': 3}\n",
            "\n",
            "New Best Score: 0.8500462820117248\n",
            "\n",
            "{'n_estimators': 2, 'max_depth': 5, 'min_samples_leaf': 1, 'min_samples_split': 4}\n",
            "\n",
            "New Best Score: 0.8500462820117248\n",
            "\n",
            "{'n_estimators': 2, 'max_depth': 5, 'min_samples_leaf': 2, 'min_samples_split': 2}\n",
            "\n",
            "New Best Score: 0.8500462820117248\n",
            "\n",
            "{'n_estimators': 2, 'max_depth': 5, 'min_samples_leaf': 2, 'min_samples_split': 3}\n",
            "\n",
            "New Best Score: 0.8500462820117248\n",
            "\n",
            "{'n_estimators': 2, 'max_depth': 5, 'min_samples_leaf': 2, 'min_samples_split': 4}\n",
            "\n",
            "New Best Score: 0.8695264954727625\n",
            "\n",
            "{'n_estimators': 2, 'max_depth': 8, 'min_samples_leaf': 1, 'min_samples_split': 2}\n",
            "\n",
            "New Best Score: 0.8695264954727625\n",
            "\n",
            "{'n_estimators': 2, 'max_depth': 8, 'min_samples_leaf': 1, 'min_samples_split': 3}\n",
            "\n",
            "New Best Score: 0.8695264954727625\n",
            "\n",
            "{'n_estimators': 2, 'max_depth': 8, 'min_samples_leaf': 1, 'min_samples_split': 4}\n",
            "\n",
            "New Best Score: 0.8803263825929284\n",
            "\n",
            "{'n_estimators': 5, 'max_depth': 8, 'min_samples_leaf': 1, 'min_samples_split': 2}\n",
            "\n",
            "New Best Score: 0.8803263825929284\n",
            "\n",
            "{'n_estimators': 5, 'max_depth': 8, 'min_samples_leaf': 1, 'min_samples_split': 3}\n",
            "\n",
            "New Best Score: 0.8803263825929284\n",
            "\n",
            "{'n_estimators': 5, 'max_depth': 8, 'min_samples_leaf': 1, 'min_samples_split': 4}\n",
            "\n",
            "New Best Score: 0.8830268314742238\n",
            "\n",
            "{'n_estimators': 10, 'max_depth': 8, 'min_samples_leaf': 1, 'min_samples_split': 2}\n",
            "\n",
            "New Best Score: 0.8830268314742238\n",
            "\n",
            "{'n_estimators': 10, 'max_depth': 8, 'min_samples_leaf': 1, 'min_samples_split': 3}\n",
            "\n",
            "New Best Score: 0.8840229537903957\n",
            "\n",
            "{'n_estimators': 25, 'max_depth': 8, 'min_samples_leaf': 2, 'min_samples_split': 2}\n",
            "\n",
            "New Best Score: 0.8840229537903957\n",
            "\n",
            "{'n_estimators': 25, 'max_depth': 8, 'min_samples_leaf': 2, 'min_samples_split': 3}\n",
            "\n",
            "New Best Score: 0.8840229537903957\n",
            "\n",
            "{'n_estimators': 25, 'max_depth': 8, 'min_samples_leaf': 2, 'min_samples_split': 4}\n",
            "\n",
            "Best hyperparameters:\n",
            "{'n_estimators': 25, 'max_depth': 8, 'min_samples_leaf': 2, 'min_samples_split': 4, 'random_state': 42}\n",
            "Train Score: 0.8838526912181304\n",
            "Train Score: 0.8840229537903957\n"
          ],
          "name": "stdout"
        }
      ]
    },
    {
      "cell_type": "code",
      "metadata": {
        "id": "a3v38NLFhjRj",
        "colab_type": "code",
        "colab": {
          "base_uri": "https://localhost:8080/",
          "height": 80
        },
        "outputId": "63e4f622-6dbb-4c68-f0a8-2850c8c20cc8"
      },
      "source": [
        "data = {\n",
        "    'Oversampled F1 Score': best_rf_score_over,\n",
        "    'Undersampled F1 Score': best_rf_score_under\n",
        "}\n",
        "\n",
        "rf_df = pd.DataFrame(data=data, index=[0])\n",
        "\n",
        "rf_df.head()"
      ],
      "execution_count": null,
      "outputs": [
        {
          "output_type": "execute_result",
          "data": {
            "text/html": [
              "<div>\n",
              "<style scoped>\n",
              "    .dataframe tbody tr th:only-of-type {\n",
              "        vertical-align: middle;\n",
              "    }\n",
              "\n",
              "    .dataframe tbody tr th {\n",
              "        vertical-align: top;\n",
              "    }\n",
              "\n",
              "    .dataframe thead th {\n",
              "        text-align: right;\n",
              "    }\n",
              "</style>\n",
              "<table border=\"1\" class=\"dataframe\">\n",
              "  <thead>\n",
              "    <tr style=\"text-align: right;\">\n",
              "      <th></th>\n",
              "      <th>Oversampled F1 Score</th>\n",
              "      <th>Undersampled F1 Score</th>\n",
              "    </tr>\n",
              "  </thead>\n",
              "  <tbody>\n",
              "    <tr>\n",
              "      <th>0</th>\n",
              "      <td>0.884023</td>\n",
              "      <td>0.870406</td>\n",
              "    </tr>\n",
              "  </tbody>\n",
              "</table>\n",
              "</div>"
            ],
            "text/plain": [
              "   Oversampled F1 Score  Undersampled F1 Score\n",
              "0              0.884023               0.870406"
            ]
          },
          "metadata": {
            "tags": []
          },
          "execution_count": 36
        }
      ]
    },
    {
      "cell_type": "markdown",
      "metadata": {
        "id": "4Hzln_7VVJxZ",
        "colab_type": "text"
      },
      "source": [
        "Again it seems that the model performed nearly equally as well on the oversampled and undersampled datasets.\n"
      ]
    },
    {
      "cell_type": "markdown",
      "metadata": {
        "id": "CgolPhF3iQPp",
        "colab_type": "text"
      },
      "source": [
        "## Evaluation\n",
        "\n",
        "Below we will take a look a how each model above performs on the validation sets that were set aside from the beggining. This will show how the model's perform on data they have not seen before. \n"
      ]
    },
    {
      "cell_type": "code",
      "metadata": {
        "id": "wv1ErKhGigfS",
        "colab_type": "code",
        "colab": {
          "base_uri": "https://localhost:8080/",
          "height": 173
        },
        "outputId": "01873005-44a5-432d-f037-a76ad9cd6e66"
      },
      "source": [
        "best_clfs_under = [best_gnb_under, best_logr_under, best_rf_under, best_KNN_under]\n",
        "classifier_labels = ['Gaussian Naive Bayes', 'Logistic Regression', 'Random Forest', 'KNN Classifer']\n",
        "test_f1_scores = []\n",
        "\n",
        "for clf in best_clfs_under:\n",
        "  y_test_preds = clf.predict(X_test_under)\n",
        "  test_f1_score = f1_score(y_test_under, y_test_preds)\n",
        "  test_f1_scores.append(test_f1_score)\n",
        "\n",
        "\n",
        "test_df = pd.DataFrame(np.array(test_f1_scores), index=classifier_labels, columns=['F1 Scores for Undersampled Dataset'])\n",
        "\n",
        "test_df.head()"
      ],
      "execution_count": null,
      "outputs": [
        {
          "output_type": "execute_result",
          "data": {
            "text/html": [
              "<div>\n",
              "<style scoped>\n",
              "    .dataframe tbody tr th:only-of-type {\n",
              "        vertical-align: middle;\n",
              "    }\n",
              "\n",
              "    .dataframe tbody tr th {\n",
              "        vertical-align: top;\n",
              "    }\n",
              "\n",
              "    .dataframe thead th {\n",
              "        text-align: right;\n",
              "    }\n",
              "</style>\n",
              "<table border=\"1\" class=\"dataframe\">\n",
              "  <thead>\n",
              "    <tr style=\"text-align: right;\">\n",
              "      <th></th>\n",
              "      <th>F1 Scores for Undersampled Dataset</th>\n",
              "    </tr>\n",
              "  </thead>\n",
              "  <tbody>\n",
              "    <tr>\n",
              "      <th>Gaussian Naive Bayes</th>\n",
              "      <td>0.770791</td>\n",
              "    </tr>\n",
              "    <tr>\n",
              "      <th>Logistic Regression</th>\n",
              "      <td>0.778420</td>\n",
              "    </tr>\n",
              "    <tr>\n",
              "      <th>Random Forest</th>\n",
              "      <td>0.833333</td>\n",
              "    </tr>\n",
              "    <tr>\n",
              "      <th>KNN Classifer</th>\n",
              "      <td>0.747170</td>\n",
              "    </tr>\n",
              "  </tbody>\n",
              "</table>\n",
              "</div>"
            ],
            "text/plain": [
              "                      F1 Scores for Undersampled Dataset\n",
              "Gaussian Naive Bayes                            0.770791\n",
              "Logistic Regression                             0.778420\n",
              "Random Forest                                   0.833333\n",
              "KNN Classifer                                   0.747170"
            ]
          },
          "metadata": {
            "tags": []
          },
          "execution_count": 37
        }
      ]
    },
    {
      "cell_type": "code",
      "metadata": {
        "colab_type": "code",
        "id": "nKWkKqoFyUHV",
        "colab": {
          "base_uri": "https://localhost:8080/",
          "height": 173
        },
        "outputId": "e3b98618-26bf-4f25-8b4f-71a5afc1b0e9"
      },
      "source": [
        "best_clfs_over = [best_gnb_over, best_logr_over, best_rf_over, best_KNN_over]\n",
        "classifier_labels = ['Gaussian Naive Bayes', 'Logistic Regression', 'Random Forest', 'KNN Classifier']\n",
        "test_f1_scores = []\n",
        "\n",
        "for clf in best_clfs_over:\n",
        "  y_test_preds = clf.predict(X_test_over)\n",
        "  test_f1_score = f1_score(y_test_over, y_test_preds)\n",
        "  test_f1_scores.append(test_f1_score)\n",
        "\n",
        "\n",
        "test_df = pd.DataFrame(np.array(test_f1_scores), index=classifier_labels, columns=['F1 Scores for Oversampled Dataset'])\n",
        "\n",
        "test_df.head()"
      ],
      "execution_count": null,
      "outputs": [
        {
          "output_type": "execute_result",
          "data": {
            "text/html": [
              "<div>\n",
              "<style scoped>\n",
              "    .dataframe tbody tr th:only-of-type {\n",
              "        vertical-align: middle;\n",
              "    }\n",
              "\n",
              "    .dataframe tbody tr th {\n",
              "        vertical-align: top;\n",
              "    }\n",
              "\n",
              "    .dataframe thead th {\n",
              "        text-align: right;\n",
              "    }\n",
              "</style>\n",
              "<table border=\"1\" class=\"dataframe\">\n",
              "  <thead>\n",
              "    <tr style=\"text-align: right;\">\n",
              "      <th></th>\n",
              "      <th>F1 Scores for Oversampled Dataset</th>\n",
              "    </tr>\n",
              "  </thead>\n",
              "  <tbody>\n",
              "    <tr>\n",
              "      <th>Gaussian Naive Bayes</th>\n",
              "      <td>0.801621</td>\n",
              "    </tr>\n",
              "    <tr>\n",
              "      <th>Logistic Regression</th>\n",
              "      <td>0.807908</td>\n",
              "    </tr>\n",
              "    <tr>\n",
              "      <th>Random Forest</th>\n",
              "      <td>0.882400</td>\n",
              "    </tr>\n",
              "    <tr>\n",
              "      <th>KNN Classifier</th>\n",
              "      <td>0.971894</td>\n",
              "    </tr>\n",
              "  </tbody>\n",
              "</table>\n",
              "</div>"
            ],
            "text/plain": [
              "                      F1 Scores for Oversampled Dataset\n",
              "Gaussian Naive Bayes                           0.801621\n",
              "Logistic Regression                            0.807908\n",
              "Random Forest                                  0.882400\n",
              "KNN Classifier                                 0.971894"
            ]
          },
          "metadata": {
            "tags": []
          },
          "execution_count": 38
        }
      ]
    },
    {
      "cell_type": "markdown",
      "metadata": {
        "id": "KQPh_QZ8YLo0",
        "colab_type": "text"
      },
      "source": [
        "We can visualize these results using confusion matrices to see how each model predicted each class.\n",
        "\n",
        "A confusion matrix works by showing the true label on the Y-axis and the Predicted Label on the X-Axis. This allows us to see how many were guessed correctly per class and how many times the items were misclassified on other classes. This is especially useful if we have more than two classes to see not only how many are being misclassified, but how which class it is being misclassified as.\n",
        "\n"
      ]
    },
    {
      "cell_type": "code",
      "metadata": {
        "colab_type": "code",
        "id": "13vD_u7jUxzI",
        "colab": {
          "base_uri": "https://localhost:8080/",
          "height": 465
        },
        "outputId": "e1f364c9-c431-4acc-8253-02b949c6c2bb"
      },
      "source": [
        "# plot confusion matrices\n",
        "fig, ax = plt.subplots(1, 4, figsize=(20,3))\n",
        "\n",
        "# plot validation confusion matrices\n",
        "for clf, ax in zip(best_clfs_under, ax.flatten()):\n",
        "  plot_confusion_matrix(clf,\n",
        "                        X_val_under,\n",
        "                        y_val_under,\n",
        "                        ax=ax,\n",
        "                        cmap='Reds',\n",
        "                        display_labels=classes)\n",
        "  ax.title.set_text(\"{} w/ Undersampled Val Set\".format(type(clf).__name__))\n",
        "\n",
        "fig2, ax2 = plt.subplots(1, 4, figsize=(20,3))\n",
        "\n",
        "# plot test set confusion matrices\n",
        "for clf, ax2 in zip(best_clfs_under, ax2.flatten()):\n",
        "  plot_confusion_matrix(clf,\n",
        "                      X_test_under,\n",
        "                      y_test_under,\n",
        "                      ax=ax2,\n",
        "                      cmap='Reds',\n",
        "                      display_labels=classes)\n",
        "  ax2.title.set_text(\"{} w/ Undersampled Test Set\".format(type(clf).__name__))\n",
        "\n",
        "  \n",
        "plt.show()\n",
        "\n"
      ],
      "execution_count": null,
      "outputs": [
        {
          "output_type": "display_data",
          "data": {
            "image/png": "[encoded data removed]",
            "text/plain": [
              "<Figure size 1440x216 with 8 Axes>"
            ]
          },
          "metadata": {
            "tags": [],
            "needs_background": "light"
          }
        },
        {
          "output_type": "display_data",
          "data": {
            "image/png": "[encoded data removed]",
            "text/plain": [
              "<Figure size 1440x216 with 8 Axes>"
            ]
          },
          "metadata": {
            "tags": [],
            "needs_background": "light"
          }
        }
      ]
    },
    {
      "cell_type": "code",
      "metadata": {
        "id": "_uCVwS6UWc4z",
        "colab_type": "code",
        "colab": {
          "base_uri": "https://localhost:8080/",
          "height": 465
        },
        "outputId": "ed2a72d1-045f-4631-f39d-b58f4b00917a"
      },
      "source": [
        "# plot confusion matrices\n",
        "fig, ax = plt.subplots(1, 4, figsize=(20,3))\n",
        "\n",
        "# plot validation confusion matrices\n",
        "for clf, ax in zip(best_clfs_over, ax.flatten()):\n",
        "  plot_confusion_matrix(clf,\n",
        "                        X_val_over,\n",
        "                        y_val_over,\n",
        "                        ax=ax,\n",
        "                        cmap='Reds',\n",
        "                        display_labels=classes)\n",
        "  ax.title.set_text(\"{} w/ Oversampled Val Set\".format(type(clf).__name__))\n",
        "\n",
        "fig2, ax2 = plt.subplots(1, 4, figsize=(20,3))\n",
        "\n",
        "# plot test set confusion matrices\n",
        "for clf, ax2 in zip(best_clfs_over, ax2.flatten()):\n",
        "  plot_confusion_matrix(clf,\n",
        "                      X_test_over,\n",
        "                      y_test_over,\n",
        "                      ax=ax2,\n",
        "                      cmap='Reds',\n",
        "                      display_labels=classes)\n",
        "  ax2.title.set_text(\"{} w/ Oversampled Test Set\".format(type(clf).__name__))\n",
        "\n",
        "  \n",
        "plt.show()\n",
        "\n"
      ],
      "execution_count": null,
      "outputs": [
        {
          "output_type": "display_data",
          "data": {
            "image/png": "[encoded data removed]",
            "text/plain": [
              "<Figure size 1440x216 with 8 Axes>"
            ]
          },
          "metadata": {
            "tags": [],
            "needs_background": "light"
          }
        },
        {
          "output_type": "display_data",
          "data": {
            "image/png": "[encoded data removed]",
            "text/plain": [
              "<Figure size 1440x216 with 8 Axes>"
            ]
          },
          "metadata": {
            "tags": [],
            "needs_background": "light"
          }
        }
      ]
    },
    {
      "cell_type": "markdown",
      "metadata": {
        "id": "PBdd8sS7Vw7f",
        "colab_type": "text"
      },
      "source": [
        "By using confusion matrices, we are able to see that the models are not just learning one class and overly guessing it to achieve higher accuracy metrics. The dark colors down the diagonal mean that the models are guessing the correct class a majority of the time for both classes."
      ]
    },
    {
      "cell_type": "markdown",
      "metadata": {
        "id": "iM4jyVrmiL_-",
        "colab_type": "text"
      },
      "source": [
        "### K-Fold Cross Validation\n",
        "\n",
        "K-Fold Cross Validation is a method that allows us to see how a model performs on different sets of the dataset. It works by seperating the data into \"K\" folds, and reserves a set of the data in each fold for a vaidation set. The model then trains on the unreserved data in each of the folds, then validates the results with the reserved data."
      ]
    },
    {
      "cell_type": "code",
      "metadata": {
        "id": "QeygXBqujjZ2",
        "colab_type": "code",
        "colab": {
          "base_uri": "https://localhost:8080/",
          "height": 80
        },
        "outputId": "0818be4c-8efd-41a1-c83b-475aefaa2825"
      },
      "source": [
        "X = working_df.drop('y', axis=1)\n",
        "y = working_df['y']\n",
        "\n",
        "folds = 5 \n",
        "\n",
        "undersampled_scores = cross_val_score(best_rf_under, X, y, cv=folds, scoring='f1_weighted')\n",
        "oversampled_scores = cross_val_score(best_KNN_over, X, y, cv=folds, scoring='f1_weighted')\n",
        "\n",
        "avg_undersampled_score = np.sum(undersampled_scores)/folds\n",
        "avg_oversampled_score = np.sum(oversampled_scores)/folds\n",
        "\n",
        "d = {\n",
        "    'Avg Oversampled F1 Score': avg_oversampled_score,\n",
        "    'Avg Undersampled F1 Score': avg_undersampled_score\n",
        "}\n",
        "\n",
        "cv_df = pd.DataFrame(data=d, index=[0])\n",
        "\n",
        "cv_df.head()"
      ],
      "execution_count": null,
      "outputs": [
        {
          "output_type": "execute_result",
          "data": {
            "text/html": [
              "<div>\n",
              "<style scoped>\n",
              "    .dataframe tbody tr th:only-of-type {\n",
              "        vertical-align: middle;\n",
              "    }\n",
              "\n",
              "    .dataframe tbody tr th {\n",
              "        vertical-align: top;\n",
              "    }\n",
              "\n",
              "    .dataframe thead th {\n",
              "        text-align: right;\n",
              "    }\n",
              "</style>\n",
              "<table border=\"1\" class=\"dataframe\">\n",
              "  <thead>\n",
              "    <tr style=\"text-align: right;\">\n",
              "      <th></th>\n",
              "      <th>Avg Oversampled F1 Score</th>\n",
              "      <th>Avg Undersampled F1 Score</th>\n",
              "    </tr>\n",
              "  </thead>\n",
              "  <tbody>\n",
              "    <tr>\n",
              "      <th>0</th>\n",
              "      <td>0.905116</td>\n",
              "      <td>0.795322</td>\n",
              "    </tr>\n",
              "  </tbody>\n",
              "</table>\n",
              "</div>"
            ],
            "text/plain": [
              "   Avg Oversampled F1 Score  Avg Undersampled F1 Score\n",
              "0                  0.905116                   0.795322"
            ]
          },
          "metadata": {
            "tags": []
          },
          "execution_count": 41
        }
      ]
    },
    {
      "cell_type": "markdown",
      "metadata": {
        "id": "z7zsdG34i84n",
        "colab_type": "text"
      },
      "source": [
        "The metrics above were generated by taking the best performing model for the oversampled and undersampled data. We can see that the model's performed slightly worse, but this was expected as we threw in the dataset without and undersampling or oversampling. This gives us a better idea on how the models would perform in the real world."
      ]
    },
    {
      "cell_type": "markdown",
      "metadata": {
        "id": "c24XU83KAYql",
        "colab_type": "text"
      },
      "source": [
        "## Bonus(es):\n",
        "\n",
        "We are also interested in finding customers who are more likely to buy the investment product. Determine the segment(s) of customers our client should prioritize.\n",
        "\n",
        "\n"
      ]
    },
    {
      "cell_type": "markdown",
      "metadata": {
        "id": "j2X93shuuSgW",
        "colab_type": "text"
      },
      "source": [
        "Attributes:\n",
        "\n",
        "age : age of customer (numeric)\n",
        "\n",
        "job : type of job (categorical)\n",
        "\n",
        "marital : marital status (categorical)\n",
        "\n",
        "education (categorical)\n",
        "\n",
        "default: has credit in default? (binary)\n",
        "\n",
        "balance: average yearly balance, in euros (numeric)\n",
        "\n",
        "housing: has a housing loan? (binary)\n",
        "\n",
        "loan: has personal loan? (binary)\n",
        "\n",
        "contact: contact communication type (categorical)\n",
        "\n",
        "day: last contact day of the month (numeric)\n",
        "\n",
        "month: last contact month of year (categorical)\n",
        "\n",
        "duration: last contact duration, in seconds (numeric)\n",
        "\n",
        "campaign: number of contacts performed during this campaign and for this client (numeric, includes last contact)\n",
        "\n",
        "Output (desired target):\n",
        "\n",
        "y - has the client subscribed to a term deposit? (binary)\n"
      ]
    },
    {
      "cell_type": "code",
      "metadata": {
        "id": "wVgovzMZqZCD",
        "colab_type": "code",
        "colab": {
          "base_uri": "https://localhost:8080/",
          "height": 204
        },
        "outputId": "9432d349-0509-4b84-9333-cd2b3b184f6b"
      },
      "source": [
        "# pull up df and drop category interger \n",
        "analysis_df = df.drop(['marital_cat', 'education_cat', 'month_cat', 'contact_cat', 'job_cat'], axis=1)\n",
        "\n",
        "analysis_df.head()"
      ],
      "execution_count": null,
      "outputs": [
        {
          "output_type": "execute_result",
          "data": {
            "text/html": [
              "<div>\n",
              "<style scoped>\n",
              "    .dataframe tbody tr th:only-of-type {\n",
              "        vertical-align: middle;\n",
              "    }\n",
              "\n",
              "    .dataframe tbody tr th {\n",
              "        vertical-align: top;\n",
              "    }\n",
              "\n",
              "    .dataframe thead th {\n",
              "        text-align: right;\n",
              "    }\n",
              "</style>\n",
              "<table border=\"1\" class=\"dataframe\">\n",
              "  <thead>\n",
              "    <tr style=\"text-align: right;\">\n",
              "      <th></th>\n",
              "      <th>age</th>\n",
              "      <th>job</th>\n",
              "      <th>marital</th>\n",
              "      <th>education</th>\n",
              "      <th>default</th>\n",
              "      <th>balance</th>\n",
              "      <th>housing</th>\n",
              "      <th>loan</th>\n",
              "      <th>contact</th>\n",
              "      <th>day</th>\n",
              "      <th>month</th>\n",
              "      <th>duration</th>\n",
              "      <th>campaign</th>\n",
              "      <th>y</th>\n",
              "    </tr>\n",
              "  </thead>\n",
              "  <tbody>\n",
              "    <tr>\n",
              "      <th>0</th>\n",
              "      <td>58</td>\n",
              "      <td>management</td>\n",
              "      <td>married</td>\n",
              "      <td>tertiary</td>\n",
              "      <td>0</td>\n",
              "      <td>2143</td>\n",
              "      <td>1</td>\n",
              "      <td>0</td>\n",
              "      <td>unknown</td>\n",
              "      <td>5</td>\n",
              "      <td>may</td>\n",
              "      <td>261</td>\n",
              "      <td>1</td>\n",
              "      <td>0</td>\n",
              "    </tr>\n",
              "    <tr>\n",
              "      <th>1</th>\n",
              "      <td>44</td>\n",
              "      <td>technician</td>\n",
              "      <td>single</td>\n",
              "      <td>secondary</td>\n",
              "      <td>0</td>\n",
              "      <td>29</td>\n",
              "      <td>1</td>\n",
              "      <td>0</td>\n",
              "      <td>unknown</td>\n",
              "      <td>5</td>\n",
              "      <td>may</td>\n",
              "      <td>151</td>\n",
              "      <td>1</td>\n",
              "      <td>0</td>\n",
              "    </tr>\n",
              "    <tr>\n",
              "      <th>2</th>\n",
              "      <td>33</td>\n",
              "      <td>entrepreneur</td>\n",
              "      <td>married</td>\n",
              "      <td>secondary</td>\n",
              "      <td>0</td>\n",
              "      <td>2</td>\n",
              "      <td>1</td>\n",
              "      <td>1</td>\n",
              "      <td>unknown</td>\n",
              "      <td>5</td>\n",
              "      <td>may</td>\n",
              "      <td>76</td>\n",
              "      <td>1</td>\n",
              "      <td>0</td>\n",
              "    </tr>\n",
              "    <tr>\n",
              "      <th>3</th>\n",
              "      <td>47</td>\n",
              "      <td>blue-collar</td>\n",
              "      <td>married</td>\n",
              "      <td>unknown</td>\n",
              "      <td>0</td>\n",
              "      <td>1506</td>\n",
              "      <td>1</td>\n",
              "      <td>0</td>\n",
              "      <td>unknown</td>\n",
              "      <td>5</td>\n",
              "      <td>may</td>\n",
              "      <td>92</td>\n",
              "      <td>1</td>\n",
              "      <td>0</td>\n",
              "    </tr>\n",
              "    <tr>\n",
              "      <th>4</th>\n",
              "      <td>33</td>\n",
              "      <td>unknown</td>\n",
              "      <td>single</td>\n",
              "      <td>unknown</td>\n",
              "      <td>0</td>\n",
              "      <td>1</td>\n",
              "      <td>0</td>\n",
              "      <td>0</td>\n",
              "      <td>unknown</td>\n",
              "      <td>5</td>\n",
              "      <td>may</td>\n",
              "      <td>198</td>\n",
              "      <td>1</td>\n",
              "      <td>0</td>\n",
              "    </tr>\n",
              "  </tbody>\n",
              "</table>\n",
              "</div>"
            ],
            "text/plain": [
              "   age           job  marital  education  ...  month  duration  campaign  y\n",
              "0   58    management  married   tertiary  ...    may       261         1  0\n",
              "1   44    technician   single  secondary  ...    may       151         1  0\n",
              "2   33  entrepreneur  married  secondary  ...    may        76         1  0\n",
              "3   47   blue-collar  married    unknown  ...    may        92         1  0\n",
              "4   33       unknown   single    unknown  ...    may       198         1  0\n",
              "\n",
              "[5 rows x 14 columns]"
            ]
          },
          "metadata": {
            "tags": []
          },
          "execution_count": 49
        }
      ]
    },
    {
      "cell_type": "code",
      "metadata": {
        "id": "QgEkXLSct7ry",
        "colab_type": "code",
        "colab": {
          "base_uri": "https://localhost:8080/",
          "height": 297
        },
        "outputId": "e789da8d-198f-4172-9dd0-04634178d7a3"
      },
      "source": [
        "# filter out customers that didn't buy the investment product\n",
        "analysis_df = analysis_df[analysis_df['y'] == 1]\n",
        "\n",
        "analysis_df.describe()"
      ],
      "execution_count": null,
      "outputs": [
        {
          "output_type": "execute_result",
          "data": {
            "text/html": [
              "<div>\n",
              "<style scoped>\n",
              "    .dataframe tbody tr th:only-of-type {\n",
              "        vertical-align: middle;\n",
              "    }\n",
              "\n",
              "    .dataframe tbody tr th {\n",
              "        vertical-align: top;\n",
              "    }\n",
              "\n",
              "    .dataframe thead th {\n",
              "        text-align: right;\n",
              "    }\n",
              "</style>\n",
              "<table border=\"1\" class=\"dataframe\">\n",
              "  <thead>\n",
              "    <tr style=\"text-align: right;\">\n",
              "      <th></th>\n",
              "      <th>age</th>\n",
              "      <th>default</th>\n",
              "      <th>balance</th>\n",
              "      <th>housing</th>\n",
              "      <th>loan</th>\n",
              "      <th>day</th>\n",
              "      <th>duration</th>\n",
              "      <th>campaign</th>\n",
              "      <th>y</th>\n",
              "    </tr>\n",
              "  </thead>\n",
              "  <tbody>\n",
              "    <tr>\n",
              "      <th>count</th>\n",
              "      <td>2896.000000</td>\n",
              "      <td>2896.000000</td>\n",
              "      <td>2896.000000</td>\n",
              "      <td>2896.000000</td>\n",
              "      <td>2896.000000</td>\n",
              "      <td>2896.000000</td>\n",
              "      <td>2896.000000</td>\n",
              "      <td>2896.000000</td>\n",
              "      <td>2896.0</td>\n",
              "    </tr>\n",
              "    <tr>\n",
              "      <th>mean</th>\n",
              "      <td>39.844959</td>\n",
              "      <td>0.016920</td>\n",
              "      <td>1588.495856</td>\n",
              "      <td>0.505525</td>\n",
              "      <td>0.131215</td>\n",
              "      <td>15.827003</td>\n",
              "      <td>682.958564</td>\n",
              "      <td>2.414365</td>\n",
              "      <td>1.0</td>\n",
              "    </tr>\n",
              "    <tr>\n",
              "      <th>std</th>\n",
              "      <td>11.001984</td>\n",
              "      <td>0.128994</td>\n",
              "      <td>2924.894429</td>\n",
              "      <td>0.500056</td>\n",
              "      <td>0.337694</td>\n",
              "      <td>8.557604</td>\n",
              "      <td>431.287174</td>\n",
              "      <td>2.306015</td>\n",
              "      <td>0.0</td>\n",
              "    </tr>\n",
              "    <tr>\n",
              "      <th>min</th>\n",
              "      <td>19.000000</td>\n",
              "      <td>0.000000</td>\n",
              "      <td>-3058.000000</td>\n",
              "      <td>0.000000</td>\n",
              "      <td>0.000000</td>\n",
              "      <td>1.000000</td>\n",
              "      <td>8.000000</td>\n",
              "      <td>1.000000</td>\n",
              "      <td>1.0</td>\n",
              "    </tr>\n",
              "    <tr>\n",
              "      <th>25%</th>\n",
              "      <td>31.000000</td>\n",
              "      <td>0.000000</td>\n",
              "      <td>141.000000</td>\n",
              "      <td>0.000000</td>\n",
              "      <td>0.000000</td>\n",
              "      <td>8.000000</td>\n",
              "      <td>364.000000</td>\n",
              "      <td>1.000000</td>\n",
              "      <td>1.0</td>\n",
              "    </tr>\n",
              "    <tr>\n",
              "      <th>50%</th>\n",
              "      <td>37.000000</td>\n",
              "      <td>0.000000</td>\n",
              "      <td>620.000000</td>\n",
              "      <td>1.000000</td>\n",
              "      <td>0.000000</td>\n",
              "      <td>16.000000</td>\n",
              "      <td>629.000000</td>\n",
              "      <td>2.000000</td>\n",
              "      <td>1.0</td>\n",
              "    </tr>\n",
              "    <tr>\n",
              "      <th>75%</th>\n",
              "      <td>47.000000</td>\n",
              "      <td>0.000000</td>\n",
              "      <td>1820.500000</td>\n",
              "      <td>1.000000</td>\n",
              "      <td>0.000000</td>\n",
              "      <td>22.000000</td>\n",
              "      <td>913.000000</td>\n",
              "      <td>3.000000</td>\n",
              "      <td>1.0</td>\n",
              "    </tr>\n",
              "    <tr>\n",
              "      <th>max</th>\n",
              "      <td>95.000000</td>\n",
              "      <td>1.000000</td>\n",
              "      <td>45248.000000</td>\n",
              "      <td>1.000000</td>\n",
              "      <td>1.000000</td>\n",
              "      <td>31.000000</td>\n",
              "      <td>3881.000000</td>\n",
              "      <td>32.000000</td>\n",
              "      <td>1.0</td>\n",
              "    </tr>\n",
              "  </tbody>\n",
              "</table>\n",
              "</div>"
            ],
            "text/plain": [
              "               age      default       balance  ...     duration     campaign       y\n",
              "count  2896.000000  2896.000000   2896.000000  ...  2896.000000  2896.000000  2896.0\n",
              "mean     39.844959     0.016920   1588.495856  ...   682.958564     2.414365     1.0\n",
              "std      11.001984     0.128994   2924.894429  ...   431.287174     2.306015     0.0\n",
              "min      19.000000     0.000000  -3058.000000  ...     8.000000     1.000000     1.0\n",
              "25%      31.000000     0.000000    141.000000  ...   364.000000     1.000000     1.0\n",
              "50%      37.000000     0.000000    620.000000  ...   629.000000     2.000000     1.0\n",
              "75%      47.000000     0.000000   1820.500000  ...   913.000000     3.000000     1.0\n",
              "max      95.000000     1.000000  45248.000000  ...  3881.000000    32.000000     1.0\n",
              "\n",
              "[8 rows x 9 columns]"
            ]
          },
          "metadata": {
            "tags": []
          },
          "execution_count": 51
        }
      ]
    },
    {
      "cell_type": "code",
      "metadata": {
        "id": "9BVJQWqzubGM",
        "colab_type": "code",
        "colab": {
          "base_uri": "https://localhost:8080/",
          "height": 607
        },
        "outputId": "5efd32fd-7cad-48f3-9368-1c3c502816d4"
      },
      "source": [
        "# first lets plot a histogram of the features that can be represented as numerics\n",
        "hist = analysis_df.hist(figsize=(20,10))"
      ],
      "execution_count": null,
      "outputs": [
        {
          "output_type": "display_data",
          "data": {
            "image/png": "[encoded data removed]",
            "text/plain": [
              "<Figure size 1440x720 with 9 Axes>"
            ]
          },
          "metadata": {
            "tags": [],
            "needs_background": "light"
          }
        }
      ]
    },
    {
      "cell_type": "markdown",
      "metadata": {
        "id": "rawbjWi7vqlj",
        "colab_type": "text"
      },
      "source": [
        "Based on the histograms above, a few things can be inferred by looking at the distributions of the features. The most notable things that stand out are the following:\n",
        "1. The age of the typical customer is around 30 and gets smaller over time. This is not surprising as around 30 is when adults start getting real monetary improvements in their lives, and thinking about investing in the future increases. It is likely that adults in this age range are buying longer term notes to maximize their investment potential. The counts for age groups after this seem to drop in a linear fashion, meaning as people get older, they are less likely to buy a term deposit, for various reasons.\n",
        "2. Overwhelmingly people that have not defaulted on a loan are more likely to buy a term deposit. This can hint that people that are more fiscally responsible are more likely to invest into their future.\n",
        "3. A possibly surprising statistic is the balance in their accounts. People with lower balances are more likely to make investments. This can be taken in several different ways and needs more investigation.\n",
        "4. The amount of customers that already have loans are more likely to get a term deposit. This may mean that they are more trusting of financial institutions and therefore are more likely to buy into a term deposit.\n",
        "5. The features duration and campaign can be observed together. According to the data, people don't like to be over bothered. A low amount of campaign calls and a short call time seem to be the sweet spot for customer aquisition.\n",
        "\n",
        "Next let's take a look at the distribution of the categorical features."
      ]
    },
    {
      "cell_type": "code",
      "metadata": {
        "id": "NcZNbYVL0GUM",
        "colab_type": "code",
        "colab": {
          "base_uri": "https://localhost:8080/",
          "height": 85
        },
        "outputId": "e837d7d6-c2fd-4e6e-ecc1-fd4cd8f1af37"
      },
      "source": [
        "marital_counts"
      ],
      "execution_count": null,
      "outputs": [
        {
          "output_type": "execute_result",
          "data": {
            "text/plain": [
              "married     1478\n",
              "single      1027\n",
              "divorced     391\n",
              "Name: marital, dtype: int64"
            ]
          },
          "metadata": {
            "tags": []
          },
          "execution_count": 70
        }
      ]
    },
    {
      "cell_type": "code",
      "metadata": {
        "id": "m4kU9hUMxvit",
        "colab_type": "code",
        "colab": {
          "base_uri": "https://localhost:8080/",
          "height": 353
        },
        "outputId": "d058bcb2-dbb1-43f7-861c-a49b2a3f5641"
      },
      "source": [
        "# 'marital_cat', 'education_cat', 'month_cat', 'contact_cat', 'job_cat'\n",
        "\n",
        "marital_classes, marital_counts = np.unique(analysis_df['marital'], return_counts=True)\n",
        "education_classes, education_counts = np.unique(analysis_df['education'], return_counts=True)\n",
        "month_classes, month_counts = np.unique(analysis_df['month'], return_counts=True)\n",
        "job_classes, job_counts = np.unique(analysis_df['job'], return_counts=True)\n",
        "contact_classes, contact_count = np.unique(analysis_df['contact'], return_counts=True)\n",
        "\n",
        "fig, (ax1, ax2, ax3, ax4) = plt.subplots(1, 4, figsize=(25,5))\n",
        "\n",
        "# display martial distribution\n",
        "ax1.bar(x=range(len(marital_counts)), height=marital_counts)\n",
        "ax1.set_xticks(range(len(marital_counts)))\n",
        "ax1.set_xticklabels(marital_classes)\n",
        "ax1.set_title('Marital Class Distributions')\n",
        "\n",
        "# display val class distribution\n",
        "ax2.bar(x=range(len(education_counts)), height=education_counts)\n",
        "ax2.set_xticks(range(len(education_counts)))\n",
        "ax2.set_xticklabels(education_classes)\n",
        "ax2.set_title('Education Class Distributions')\n",
        "\n",
        "# display test class distribution\n",
        "ax3.bar(x=range(len(month_counts)), height=month_counts)\n",
        "ax3.set_xticks(range(len(month_counts)))\n",
        "ax3.set_xticklabels(month_classes)\n",
        "ax3.set_title('Month Class Distributions')\n",
        "\n",
        "# display train class distribution\n",
        "ax4.bar(x=range(len(contact_count)), height=contact_count)\n",
        "ax4.set_xticks(range(len(contact_count)))\n",
        "ax4.set_xticklabels(contact_classes)\n",
        "ax4.set_title('Contact Class Distributions')"
      ],
      "execution_count": null,
      "outputs": [
        {
          "output_type": "execute_result",
          "data": {
            "text/plain": [
              "Text(0.5, 1.0, 'Contact Class Distributions')"
            ]
          },
          "metadata": {
            "tags": []
          },
          "execution_count": 82
        },
        {
          "output_type": "display_data",
          "data": {
            "image/png": "[encoded data removed]",
            "text/plain": [
              "<Figure size 1800x360 with 4 Axes>"
            ]
          },
          "metadata": {
            "tags": [],
            "needs_background": "light"
          }
        }
      ]
    },
    {
      "cell_type": "markdown",
      "metadata": {
        "id": "-PkAPl303345",
        "colab_type": "text"
      },
      "source": [
        "According to the distributions above a few things can be inferred:\n",
        "1. Married people are more likely to purchase than the other two classes. This may be because they have more security and a stronger dual income if both parties are working. The divorcees are more likely worrying about finding stability than setting up for future stability.\n",
        "2. It is not surprising that higher education leads to higher sales for investment products. What is surprising is that secondary are more likely to purchase than teritiary. This needs deeper investigation.\n",
        "3. The month people tend to purchase definitely needs more investigation. The only inference I can make without more is it is not surprising that nobody is buying investments around December holidays or a historically slow for business January.\n",
        "4. Seems like people are more likely to purchase if contacted by cellphone, although this needs deeper investigation."
      ]
    },
    {
      "cell_type": "code",
      "metadata": {
        "id": "w5dqqDZk1vra",
        "colab_type": "code",
        "colab": {
          "base_uri": "https://localhost:8080/",
          "height": 359
        },
        "outputId": "fd90b69b-71bb-4787-ffe5-1d4cafe7b0d8"
      },
      "source": [
        "analysis_df['job'].value_counts().plot(kind='bar', title='Job Class Distribution')"
      ],
      "execution_count": null,
      "outputs": [
        {
          "output_type": "execute_result",
          "data": {
            "text/plain": [
              "<matplotlib.axes._subplots.AxesSubplot at 0x7efcb2e29240>"
            ]
          },
          "metadata": {
            "tags": []
          },
          "execution_count": 83
        },
        {
          "output_type": "display_data",
          "data": {
            "image/png": "[encoded data removed]",
            "text/plain": [
              "<Figure size 432x288 with 1 Axes>"
            ]
          },
          "metadata": {
            "tags": [],
            "needs_background": "light"
          }
        }
      ]
    },
    {
      "cell_type": "markdown",
      "metadata": {
        "id": "MywsjTSj44AZ",
        "colab_type": "text"
      },
      "source": [
        "Analysis of the jobs is interesting. While not surprising that people in management are more likely to buy into the term deposits, the blue-collar statistic surprised me. \n",
        "\n",
        "It is not surprising that retired, entrepreneur and student are lower on the list. Students likely don't have the expendable resources to spend on investments, retirees are towards the end of their lifespans and therefore would not benefit as much from long term investments, and entrepreneurs are more likely investing in themselves and their businesses than long term investment products like this."
      ]
    },
    {
      "cell_type": "markdown",
      "metadata": {
        "id": "t-ynlN-GqXba",
        "colab_type": "text"
      },
      "source": [
        "What makes the customers buy? Tell us which feature we should be focusing more on."
      ]
    },
    {
      "cell_type": "code",
      "metadata": {
        "id": "hINl94smk2CY",
        "colab_type": "code",
        "colab": {
          "base_uri": "https://localhost:8080/",
          "height": 612
        },
        "outputId": "1b299e54-f168-4e8b-d383-e065442964c2"
      },
      "source": [
        "feature_importances = best_rf_over.feature_importances_\n",
        "features = X_train_over.columns.tolist()\n",
        "\n",
        "# summarize feature importance\n",
        "for i,v in enumerate(feature_importances):\n",
        "\tprint('Feature: {}, Score: {}'.format(features[i],v))\n",
        " \n",
        "# plot feature importance\n",
        "plt.figure(figsize=(18,6))\n",
        "plt.title('Feature Importances')\n",
        "plt.bar(features, feature_importances)\n",
        "\n",
        "plt.show()"
      ],
      "execution_count": null,
      "outputs": [
        {
          "output_type": "stream",
          "text": [
            "Feature: age, Score: 0.029847546970843294\n",
            "Feature: default, Score: 0.0006383479961417844\n",
            "Feature: balance, Score: 0.02298107633192568\n",
            "Feature: housing, Score: 0.022737149611826702\n",
            "Feature: loan, Score: 0.004474570446133519\n",
            "Feature: day, Score: 0.042367024799498144\n",
            "Feature: duration, Score: 0.7170707999414926\n",
            "Feature: campaign, Score: 0.013499546877782202\n",
            "Feature: job_cat, Score: 0.005199295095346958\n",
            "Feature: marital_cat, Score: 0.008433975208539418\n",
            "Feature: education_cat, Score: 0.00889091682621027\n",
            "Feature: month_cat, Score: 0.07430941967050997\n",
            "Feature: contact_cat, Score: 0.04955033022374948\n"
          ],
          "name": "stdout"
        },
        {
          "output_type": "display_data",
          "data": {
            "image/png": "[encoded data removed]",
            "text/plain": [
              "<Figure size 1296x432 with 1 Axes>"
            ]
          },
          "metadata": {
            "tags": [],
            "needs_background": "light"
          }
        }
      ]
    },
    {
      "cell_type": "markdown",
      "metadata": {
        "id": "GMx2RSRCiGJs",
        "colab_type": "text"
      },
      "source": [
        "The graph above shows the feature importances of each feature. This depicts how influential the feature was for the random forest to make a classification decision on a row. We can use this data to gain insight on what drives a customers decision, and if we can remove any to make the survey shorter.\n",
        "\n",
        "According to the graph, by far the most important feature was the duration columns. Using this and knowing the data from the above charts, we can assume that shorter calls meant higher chance of landing a sale. \n",
        "\n",
        "The next features that can be analyzed and focused on more would be month, age, type of contact, and the amount of days since the last contact.\n",
        "\n"
      ]
    },
    {
      "cell_type": "markdown",
      "metadata": {
        "id": "0N3vS3J8GaJn",
        "colab_type": "text"
      },
      "source": [
        "baseline model performance\n",
        "try dropping the duration feature\n",
        "more visualization\n"
      ]
    }
  ]
}